{
 "cells": [
  {
   "cell_type": "markdown",
   "metadata": {},
   "source": [
    "# **Random Forest Classifier Twitter ‘Social Spambots’**\n",
    "## By:  Joaquin Quintana & Jason Weidner"
   ]
  },
  {
   "cell_type": "code",
   "execution_count": 1,
   "metadata": {},
   "outputs": [],
   "source": [
    "from IPython.display import Image\n",
    "import matplotlib.pyplot as plt\n",
    "from zipfile import ZipFile\n",
    "import seaborn as sns\n",
    "import pandas as pd\n",
    "import numpy as np\n",
    "import os"
   ]
  },
  {
   "cell_type": "markdown",
   "metadata": {},
   "source": [
    "Here we look at using a RandomForest Classifier using Sklearn and the attributes mentioned below. The attributes mentioned showed a high level of success in past academic research, [Cresci Fame for Sale 2015 paper](https://www.sciencedirect.com/science/article/abs/pii/S0167923615001803?via%3Dihub) and this is the reason they why they were chosen for modeling here.\n",
    "\n",
    "#### Attributes which show a high level of success \n",
    "\n",
    "1. **number of friends:** spambots do not have thousands of friends\n",
    "\n",
    "2. **number of tweets:** spambots have sent less than 20 tweets\n",
    "\n",
    "3. $\\frac{friends}{followers^2}$: spambots have a high $\\frac{friends}{followers^2}$ ratio value (i.e., lower ratio values means legitimate users).\n",
    "\n",
    "4. **favourites_count:** The number of Tweets this user has liked in the account’s lifetime. British spelling used in the field name for historical reasons. \n",
    "\n",
    "\n",
    "# Need to input now that functions are fixed\n",
    "\n",
    "In a second note book we computed the **Information Gain** for the following attributes. "
   ]
  },
  {
   "cell_type": "markdown",
   "metadata": {},
   "source": [
    "## **Begin Function Defintions for Notebook**"
   ]
  },
  {
   "cell_type": "code",
   "execution_count": 2,
   "metadata": {},
   "outputs": [],
   "source": [
    "#Template for function defintions; Note: May consider making the whole directory a file path so all files are found regardless of location. \n",
    "def navigator():\n",
    "    \"\"\"Changes your current working directory to the one containing unziped data file.\n",
    "    \n",
    "    Parameters:\n",
    "        attr_col (N/A): Navigates from the directory containing the python notebook up one leve to the \n",
    "        folder 'data'. This folder contains the zip file with the raw data. Simply run the function after \n",
    "        folders are in aforementioned stucture (see schematic above).\n",
    "    \n",
    "    Returns: \n",
    "        (string): Prints the working directory. The new path is added to the working directory.\n",
    "        \n",
    "    Note:\n",
    "        - This function will change the working directory and keep the notebook on the path to the data\n",
    "        folder. Allows for the notebook to access the data file remotely. \n",
    "    \"\"\"\n",
    "    path_parent = os.path.dirname(os.getcwd()) # get directory notebook \n",
    "    \n",
    "    # Find folder named data \n",
    "    f = os.path.join(os.path.expanduser('~'),path_parent,'data')\n",
    "    os.chdir(f)\n",
    "    \n",
    "    return(f)"
   ]
  },
  {
   "cell_type": "code",
   "execution_count": 3,
   "metadata": {},
   "outputs": [],
   "source": [
    "def unzip_all_zips(Zip_File_Name):\n",
    "    \"\"\" Recursively open all zipfiles in the working directory and the subsequent sub directories. \n",
    "    \n",
    "    Parameters:\n",
    "        attr_col (string): input zip folder's name. For example, 'folderName.zip'\n",
    "    \n",
    "    Returns: \n",
    "        (string): Print \"Done!\" When finished opening files.\n",
    "        \n",
    "    Note:\n",
    "        - This function will open all folders with ext .zip. \n",
    "        Warning! - function will overwrite all data with identical folder names \n",
    "    \"\"\"\n",
    "    # specifying the zip file name \n",
    "    folder = Zip_File_Name \n",
    "    \n",
    "    # opening the zip file in READ mode \n",
    "    with ZipFile(folder, 'r') as zip:\n",
    "        zip.extractall() \n",
    "\n",
    "    #navigate into subdirectory\n",
    "    os.chdir('datasets_full.csv')\n",
    "    path = os.getcwd()\n",
    "    \n",
    "    #get all files in subdirectory \n",
    "    all_files = os.listdir('.')\n",
    "    all_zip_files = [file for file in all_files if file.endswith('.zip')] # find only the zip files\n",
    "    \n",
    "    #open all identified zip files in subdriectory\n",
    "    for file in all_zip_files:\n",
    "        with ZipFile(file, 'r') as zip: \n",
    "            zip.extractall() \n",
    "            \n",
    "    return(\"Done!\")"
   ]
  },
  {
   "cell_type": "code",
   "execution_count": 4,
   "metadata": {},
   "outputs": [],
   "source": [
    "def create_col_target_column_rf(df_real_users,df_bot):\n",
    "    \"\"\"Creates a df with two columns: \"id\" and \"bot\" (AKA target) column.\n",
    "    This is, if a bot return 1 and if not a bot account return 0.\n",
    "    \n",
    "    Parameters:\n",
    "        df (pd.df): takes two dataframes with at least two columns; one that is real users and the other which are known bots.\n",
    "        \n",
    "    Returns:\n",
    "        df (pd.df): a dataframe with two columns: \"id\" and \"Bot\".\n",
    "        \n",
    "    Note: \n",
    "    \"\"\"\n",
    "    \n",
    "    data = df_real_users\n",
    "    real_users_only = data.assign(bot=0) # create column of zeros named 'bot'\n",
    "\n",
    "    data_bot = df_bot\n",
    "    bot_only = data_bot.assign(bot=1) # create column of ones named 'bot'\n",
    "    \n",
    "    # concat df's, one on top of the other\n",
    "    real_users_and_trad_bot = pd.concat([bot_only,real_users_only], axis=0) \n",
    "    real_users_and_trad_bot.set_index(keys=\"id\")\n",
    "    \n",
    "    return real_users_and_trad_bot"
   ]
  },
  {
   "cell_type": "code",
   "execution_count": 5,
   "metadata": {},
   "outputs": [],
   "source": [
    "#JQ\n",
    "# friends_count: The number of users this account is following (AKA their “followings” or \"friends\").\n",
    "# followers_count: how many users follow this user (AKA followers).\n",
    "def frame_friends_square_followers_ratio(df):\n",
    "    \"\"\"Creates a df with two columns: \"id\" and the computed ratios for (friends) / (followers^2) as a float.\n",
    "    \n",
    "    Parameters:\n",
    "        df (pd.df): a dataframe with at least three columns: \"id\" and \"friends_count\", \"followers_count\"\n",
    "        \n",
    "    Returns:\n",
    "        df (pd.df): a dataframe with two columns: \"id\" and ratios for (friends) / (followers^2) as a float.\n",
    "    \"\"\"\n",
    "    #columns you want to pull from csv file \n",
    "    list_of_columns = ['id','friends_count','followers_count']\n",
    "\n",
    "    #return pandas dataframe with select columns. \n",
    "    df_select_col = df[list_of_columns]\n",
    "    \n",
    "    #compute friends/followers^2 ratio\n",
    "    friends_followers_ratio = df_select_col.friends_count/df_select_col.followers_count**2\n",
    "    \n",
    "    #drop columns which are no longer needed\n",
    "    df_select_col = df_select_col.drop(['friends_count', 'followers_count'], axis=1)\n",
    "    \n",
    "    #create new column to place ratio\n",
    "    df_select_col['friends/followers^2'] = friends_followers_ratio\n",
    "    \n",
    "    #return the data frame with \"id\" and \"friends/followers^2\"\n",
    "    return df_select_col"
   ]
  },
  {
   "cell_type": "code",
   "execution_count": 6,
   "metadata": {},
   "outputs": [],
   "source": [
    "#Helper function JQ\n",
    "def Compute_all_attributes_RF(df_real_users,df_bot):\n",
    "    \"\"\"Creates a df with two columns: \"id\" and target column this is, if a bot account 1 and if not 0.\n",
    "    \n",
    "    Parameters:\n",
    "        df (pd.df): takes two dataframes with at least two columns in each; \n",
    "        one that is real users and the other which are known bots.\n",
    "        \n",
    "    Returns:\n",
    "        df (pd.df): a dataframe with two columns: \"id\" and \"Bot\".\n",
    "        \n",
    "    Note: \n",
    "    \"\"\"\n",
    "    \n",
    "    ratio_id = frame_friends_square_followers_ratio(df_real_users)\n",
    "    #drop id as row are identical in both cases so can just concatenate the ratio onto other Dataframe\n",
    "    ratio = ratio_id.drop(columns = \"id\")\n",
    "    #get columns from original data\n",
    "    l = ['id','friends_count','favourites_count','followers_count']\n",
    "    df = df_real_users[l]\n",
    "    real = df.copy()\n",
    "    #concatenate column onto dataframe with other columns\n",
    "    real['friends/followers^2'] = ratio\n",
    "    real\n",
    "    \n",
    "    ratio_id_bot = frame_friends_square_followers_ratio(df_bot)\n",
    "    #drop id as row are identical in both cases so can just concatenate the ratio onto other Dataframe\n",
    "    ratio_bot = ratio_id_bot.drop(columns = \"id\")\n",
    "    #get columns from original data\n",
    "    l = ['id','friends_count','favourites_count','followers_count']\n",
    "    df = df_bot[l]\n",
    "    bot = df.copy()\n",
    "    #concatenate column onto dataframe with other columns\n",
    "    bot['friends/followers^2'] = ratio_bot\n",
    "    bot\n",
    "\n",
    "    #concatenate real and bot profiles. Assign a target column 1 for bot 0 for not\n",
    "    data_all = create_col_target_column_rf(real,bot)\n",
    "    return data_all"
   ]
  },
  {
   "cell_type": "markdown",
   "metadata": {},
   "source": [
    "# **Directory setup for this script**\n",
    "\n",
    "### Schematic of folder structure expected for running this mining tool. "
   ]
  },
  {
   "cell_type": "code",
   "execution_count": 7,
   "metadata": {},
   "outputs": [
    {
     "data": {
      "image/png": "[encoded data removed]",
      "text/plain": [
       "<IPython.core.display.Image object>"
      ]
     },
     "execution_count": 7,
     "metadata": {},
     "output_type": "execute_result"
    }
   ],
   "source": [
    "#placed image in folder with this python notebook for user to run and see prior to opening any files\n",
    "Image(filename = 'Folder Structure Bot_Wrangler.png')"
   ]
  },
  {
   "cell_type": "markdown",
   "metadata": {},
   "source": [
    "### 1. Use navigator and  then run the function unzip_all_zips.  \n",
    "\n",
    "#### **Note:** Navigator assumes your starting with the raw unzipped file each time."
   ]
  },
  {
   "cell_type": "code",
   "execution_count": 8,
   "metadata": {},
   "outputs": [
    {
     "data": {
      "text/plain": [
       "'/Users/JQ/Documents/Data_Mine/Bots_Project/data'"
      ]
     },
     "execution_count": 8,
     "metadata": {},
     "output_type": "execute_result"
    }
   ],
   "source": [
    "#find data folder and to path\n",
    "navigator()"
   ]
  },
  {
   "cell_type": "markdown",
   "metadata": {},
   "source": [
    "### 2. This will open all zip files and any file can be accessed by placing the filePath after os.getcwd(), this is as a string."
   ]
  },
  {
   "cell_type": "code",
   "execution_count": 9,
   "metadata": {},
   "outputs": [
    {
     "data": {
      "text/plain": [
       "'Done!'"
      ]
     },
     "execution_count": 9,
     "metadata": {},
     "output_type": "execute_result"
    }
   ],
   "source": [
    "#unzip all files with the zip ext. Add to file Path\n",
    "unzip_all_zips('cresci-2017.csv.zip')"
   ]
  },
  {
   "cell_type": "markdown",
   "metadata": {},
   "source": [
    "### Constants to make things easy to access all files after unzipping files. "
   ]
  },
  {
   "cell_type": "code",
   "execution_count": 10,
   "metadata": {},
   "outputs": [],
   "source": [
    "#After running bnavigator and unzipping files we can use the following constants to find all csv files on file path\n",
    "REAL_USERS = os.getcwd() + '/genuine_accounts.csv/users.csv'\n",
    "REAL_TWEETS = os.getcwd() + '/genuine_accounts.csv/tweets.csv'\n",
    "\n",
    "SOCIAL_USERS_1 = os.getcwd() + '/social_spambots_1.csv/users.csv'\n",
    "SOCIAL_USERS_2 = os.getcwd() + '/social_spambots_2.csv/users.csv'\n",
    "SOCIAL_USERS_3 = os.getcwd() + '/social_spambots_3.csv/users.csv'\n",
    "\n",
    "SOCIAL_TWEETS_1 = os.getcwd() + '/social_spambots_1.csv/tweets.csv'\n",
    "SOCIAL_TWEETS_2 = os.getcwd() + '/social_spambots_2.csv/tweets.csv'\n",
    "SOCIAL_TWEETS_3 = os.getcwd() + '/social_spambots_3.csv/tweets.csv'\n",
    "\n",
    "TRAD_USERS_1 = os.getcwd() + '/traditional_spambots_1.csv/users.csv'\n",
    "TRAD_USERS_2 = os.getcwd() + '/traditional_spambots_2.csv/users.csv'\n",
    "TRAD_USERS_3 = os.getcwd() + '/traditional_spambots_3.csv/users.csv'\n",
    "TRAD_USERS_4 = os.getcwd() + '/traditional_spambots_4.csv/users.csv'\n",
    "\n",
    "TRAD_TWEETS_1 = os.getcwd() + '/traditional_spambots_1.csv/tweets.csv'\n",
    "TRAD_TWEETS_2 = os.getcwd() + '/traditional_spambots_2.csv/tweets.csv'\n",
    "TRAD_TWEETS_3 = os.getcwd() + '/traditional_spambots_3.csv/tweets.csv'\n",
    "TRAD_TWEETS_4 = os.getcwd() + '/traditional_spambots_4.csv/tweets.csv'"
   ]
  },
  {
   "cell_type": "markdown",
   "metadata": {},
   "source": [
    "## Read in a few files"
   ]
  },
  {
   "cell_type": "code",
   "execution_count": 11,
   "metadata": {},
   "outputs": [],
   "source": [
    "real_users = pd.read_csv(REAL_USERS)\n",
    "#real_tweets = pd.read_csv(REAL_TWEETS)\n",
    "\n",
    "tradbot_1 = pd.read_csv(TRAD_USERS_1)\n",
    "tradbot_2 = pd.read_csv(TRAD_USERS_2)\n",
    "tradbot_3 = pd.read_csv(TRAD_USERS_3)\n",
    "tradbot_4 = pd.read_csv(TRAD_USERS_4)\n",
    "\n",
    "socbots_1 = pd.read_csv(SOCIAL_USERS_1)\n",
    "socbots_2 = pd.read_csv(SOCIAL_USERS_2)\n",
    "socbots_3 = pd.read_csv(SOCIAL_USERS_3)"
   ]
  },
  {
   "cell_type": "markdown",
   "metadata": {},
   "source": [
    "# Begin Exploratory Analysis"
   ]
  },
  {
   "cell_type": "markdown",
   "metadata": {},
   "source": [
    "### First lest look at each files number of entries (AKA user accounts). "
   ]
  },
  {
   "cell_type": "code",
   "execution_count": 55,
   "metadata": {},
   "outputs": [],
   "source": [
    "l = [real_users,tradbot_1,tradbot_2,tradbot_3,tradbot_4,socbots_1,socbots_2,socbots_3]\n",
    "size = []\n",
    "#get the number of rows in each file\n",
    "for name in l:\n",
    "    size.append(name.id.shape[0])\n",
    "    \n",
    "#place x labels and convert to Dataframe\n",
    "labels = ['real_users','tradbot_1','tradbot_2','tradbot_3','tradbot_4','socbots_1','socbots_2','socbots_3']\n",
    "dat = pd.DataFrame(size,labels)"
   ]
  },
  {
   "cell_type": "code",
   "execution_count": 56,
   "metadata": {},
   "outputs": [
    {
     "data": {
      "image/png": "[encoded data removed]",
      "text/plain": [
       "<Figure size 1080x540 with 1 Axes>"
      ]
     },
     "metadata": {},
     "output_type": "display_data"
    }
   ],
   "source": [
    "#plot bar chart showing the sizes of each file\n",
    "dat.plot.barh(legend=False,figsize=(15,7.5));\n",
    "plt.title('Number of accounts');"
   ]
  },
  {
   "cell_type": "code",
   "execution_count": 57,
   "metadata": {},
   "outputs": [
    {
     "data": {
      "text/plain": [
       "(1000, 42)"
      ]
     },
     "execution_count": 57,
     "metadata": {},
     "output_type": "execute_result"
    }
   ],
   "source": [
    "#We have unbalnced data so might combine to make the number of bots and real users more similar in number of accounts.  \n",
    "real_users = real_users.sample(n=1000)\n",
    "real_users.shape"
   ]
  },
  {
   "cell_type": "code",
   "execution_count": 58,
   "metadata": {},
   "outputs": [],
   "source": [
    "real_user_andBots1 = Compute_all_attributes_RF(real_users,socbots_1)\n",
    "real_user_andBots1 = real_user_andBots1.reset_index(drop=True)"
   ]
  },
  {
   "cell_type": "code",
   "execution_count": 59,
   "metadata": {},
   "outputs": [
    {
     "data": {
      "image/png": "[encoded data removed]",
      "text/plain": [
       "<Figure size 576x360 with 1 Axes>"
      ]
     },
     "metadata": {},
     "output_type": "display_data"
    }
   ],
   "source": [
    "sns.countplot(x=\"bot\", data=real_user_andBots1);"
   ]
  },
  {
   "cell_type": "code",
   "execution_count": 60,
   "metadata": {},
   "outputs": [
    {
     "data": {
      "image/png": "[encoded data removed]",
      "text/plain": [
       "<Figure size 576x360 with 1 Axes>"
      ]
     },
     "metadata": {},
     "output_type": "display_data"
    }
   ],
   "source": [
    "## Now display the data as is prior to preprocessing \n",
    "X = real_user_andBots1[[ 'friends_count', 'favourites_count', 'followers_count',\n",
    "       'friends/followers^2']]\n",
    "sns.set(rc={'figure.figsize':(8,5)})\n",
    "sns.stripplot(data = X)\n",
    "plt.title('Prior to normalizing and transforming');"
   ]
  },
  {
   "cell_type": "markdown",
   "metadata": {},
   "source": [
    "## Process data by scaling and transforming\n"
   ]
  },
  {
   "cell_type": "markdown",
   "metadata": {},
   "source": [
    "Above I selected four variables to work with from the datasets and I will perform this Random Forest Classification on datasets with both traditional and social spambots to see how well or accurate the model is at differatiating real users from bots given the attributes selected. \n",
    "\n",
    "First we will need to specify which factors we want to use in this Random Forest Classifier and these are assigned to X. The target or ground truth values are set to y and is binary. Sklearn likes this data to be in a specific shape and assumes the data is normalized for each factor to make comparison between groups relevant. \n",
    "\n",
    "From [Sklearn's documentaion](https://scikit-learn.org/stable/modules/preprocessing.html#preprocessing) : The sklearn.preprocessing package provides several common utility functions and **transformer classes to change raw feature vectors into a representation that is more suitable for the downstream estimators.**\n",
    "\n",
    "In general, **learning algorithms benefit from standardization of the data set.** If some outliers are present in the set, robust scalers or transformers are more appropriate."
   ]
  },
  {
   "cell_type": "markdown",
   "metadata": {},
   "source": [
    "## Begin Preprocessing using sklearn"
   ]
  },
  {
   "cell_type": "code",
   "execution_count": 61,
   "metadata": {},
   "outputs": [],
   "source": [
    "import sklearn\n",
    "from sklearn import preprocessing\n",
    "from sklearn.ensemble import RandomForestClassifier\n",
    "from sklearn.model_selection import train_test_split"
   ]
  },
  {
   "cell_type": "markdown",
   "metadata": {},
   "source": [
    "## Clean data as there are a few NaNs so I'll simply drop these rows as the dataset is large."
   ]
  },
  {
   "cell_type": "code",
   "execution_count": 62,
   "metadata": {},
   "outputs": [
    {
     "name": "stdout",
     "output_type": "stream",
     "text": [
      "Are there NaNs in this Data:  True\n",
      "After droping Nans - are there NaNs in this Data:  False\n"
     ]
    }
   ],
   "source": [
    "#there are some nans in the rows so I'll drop all rows which have any nana\n",
    "print('Are there NaNs in this Data: ',real_user_andBots1.isnull().values.any())\n",
    "real_user_andBots1 = real_user_andBots1.dropna()\n",
    "real_user_andBots1.isnull().values.any()\n",
    "print('After droping Nans - are there NaNs in this Data: ',real_user_andBots1.isnull().values.any())"
   ]
  },
  {
   "cell_type": "markdown",
   "metadata": {},
   "source": [
    "## Training and Test Set Preparation\n",
    "\n",
    "First I use [train_test_split](https://scikit-learn.org/stable/modules/generated/sklearn.model_selection.train_test_split.html) from sklearn to randomly split the data into two sets. Set one contains 30% of the data (used for testing) and set two holds the other 70%  of the data (used for training). This is performed so we can use one set for training and the other set to test with, which ensures we are not performing both analysis on the same fraction of data. "
   ]
  },
  {
   "cell_type": "code",
   "execution_count": 63,
   "metadata": {},
   "outputs": [
    {
     "name": "stdout",
     "output_type": "stream",
     "text": [
      "Train set: (1181, 4) (1181,)\n",
      "Test set: (507, 4) (507,)\n"
     ]
    }
   ],
   "source": [
    "## Begin splitting data\n",
    "X = np.asarray(real_user_andBots1[[ 'friends_count', 'favourites_count', 'followers_count',\n",
    "       'friends/followers^2']])\n",
    "y = np.asarray(real_user_andBots1['bot'])\n",
    "\n",
    "# Use Train and Test split to split the data into two sets.\n",
    "X_train, X_test, y_train, y_test = train_test_split( \n",
    "        X, y, test_size = 0.3)\n",
    "print ('Train set:', X_train.shape,  y_train.shape)\n",
    "print ('Test set:', X_test.shape,  y_test.shape)"
   ]
  },
  {
   "cell_type": "markdown",
   "metadata": {},
   "source": [
    "# Preprocessing data\n",
    "\n",
    "Preprocessing can be done using sklearns [StandardScaler](https://scikit-learn.org/stable/modules/generated/sklearn.preprocessing.StandardScaler.html) and [transform](https://scikit-learn.org/stable/modules/generated/sklearn.preprocessing.StandardScaler.html#sklearn.preprocessing.StandardScaler.transform) which scale the data to unit variance and then transform the data. This is, each factor is taken independently, scaled and transformed to a normal distribution with mean = 0 and standard deviation = 1. The data is also fit to the model using sklearns fit function. \n",
    "\n",
    "The reason we perform this preprcoessing is to ensure all the values are within a scale that can be used to make comparisons between factors which may have wildly differing units or scales which would be erronous to compare."
   ]
  },
  {
   "cell_type": "code",
   "execution_count": 64,
   "metadata": {},
   "outputs": [
    {
     "data": {
      "image/png": "[encoded data removed]",
      "text/plain": [
       "<Figure size 576x360 with 1 Axes>"
      ]
     },
     "metadata": {},
     "output_type": "display_data"
    }
   ],
   "source": [
    "#preprocess the train and test sets\n",
    "scaler = preprocessing.StandardScaler()\n",
    "X_train = scaler.fit_transform(X_train)\n",
    "X_test = scaler.transform(X_test)\n",
    "\n",
    "#show the data after processing\n",
    "labels = ['friends_count', 'favourites_count', 'followers_count',\n",
    "       'friends/followers^2']\n",
    "\n",
    "df = pd.DataFrame(X_train,columns = labels)\n",
    "sns.set(rc={'figure.figsize':(8,5)})\n",
    "plt.title('After to normalizing and transforming');\n",
    "sns.stripplot(data = df);"
   ]
  },
  {
   "cell_type": "markdown",
   "metadata": {},
   "source": [
    "## Begin Random Forest Classification\n"
   ]
  },
  {
   "cell_type": "markdown",
   "metadata": {},
   "source": [
    "We can set a few of the parameters going into the Random Forest Classifier. Here I allow n_estimators = 50 which is the number of trees to consider in the forest. Random_state = 10, which controls the bootstrapping of the samples used when building trees and the features to consider when looking for the best split at each node (also provides back the same result each time if a value is specified; important for reproducability otherwise each time it will return a different result). Max_depth contols the size of the trees which can be made. It is pretty straight forward and works ok as is.\n",
    "\n",
    "Return the Test Score and Train Score after fitting."
   ]
  },
  {
   "cell_type": "code",
   "execution_count": 65,
   "metadata": {},
   "outputs": [
    {
     "name": "stdout",
     "output_type": "stream",
     "text": [
      "Random Forest Test Score:  0.9625246548323472\n",
      "Random Forest Train Score:  0.97883149872989\n"
     ]
    }
   ],
   "source": [
    "rf= RandomForestClassifier(n_estimators = 50, random_state=20,max_depth=5) #n_estimator = DT\n",
    "rf.fit(X_train,y_train) # learning\n",
    "\n",
    "print(\"Random Forest Test Score: \",rf.score(X_test,y_test))\n",
    "print(\"Random Forest Train Score: \",rf.score(X_train,y_train))"
   ]
  },
  {
   "cell_type": "code",
   "execution_count": 66,
   "metadata": {},
   "outputs": [
    {
     "data": {
      "image/png": "[encoded data removed]",
      "text/plain": [
       "<Figure size 576x360 with 1 Axes>"
      ]
     },
     "metadata": {},
     "output_type": "display_data"
    }
   ],
   "source": [
    "importances = rf.feature_importances_\n",
    "importances = pd.DataFrame(importances,['friends_count', 'favourites_count', 'followers_count',\n",
    "       'friends/followers^2'])\n",
    "importances=importances.rename(columns={0: \"Features_Importance\"})\n",
    "importances  = importances.Features_Importance.sort_values()\n",
    "importances.plot.bar();"
   ]
  },
  {
   "cell_type": "markdown",
   "metadata": {},
   "source": [
    "Let's look at the confusion matrix to get more details on how well this model does. \n",
    "Using [sklearn confusion matrix](https://scikit-learn.org/stable/modules/generated/sklearn.metrics.confusion_matrix.html), which can be interpreted as (from sklearn documentation): In binary classification, the count of **true negatives:** $C(0,0)$, **false negatives:** is $C(0,1)$, **true positives:** is $C(1,0)$ and **false positives:** is $C(1,1)$. Often times people are looking simply at the dignoal with hopes that the majority of the data is falling along the diagnoal which is **true negatives:** $C(0,0)$ and  **true positives:** is $C(1,0)$.\n",
    "\n",
    "Below the confusion matrix the classification report is printed out showing the precision, recall, F1-score and the score. \n",
    "\n",
    "The *precision* and *recall* can be combined into something called the $F_1$ score. This is $$F_1 = \\frac{2}{1/\\textrm{recall} + 1/\\textrm{precision}}.$$ \n",
    "\n",
    "This takes on value '1' for best and '0' for worst precision & recall -- i.e. it's a single \"higher is better\" metric to avoid making two comparisons."
   ]
  },
  {
   "cell_type": "code",
   "execution_count": 84,
   "metadata": {},
   "outputs": [
    {
     "data": {
      "image/png": "[encoded data removed]",
      "text/plain": [
       "<Figure size 576x360 with 2 Axes>"
      ]
     },
     "metadata": {},
     "output_type": "display_data"
    },
    {
     "data": {
      "text/plain": [
       "302"
      ]
     },
     "execution_count": 84,
     "metadata": {},
     "output_type": "execute_result"
    }
   ],
   "source": [
    "#predict how well model fits the known data.\n",
    "y_pred = rf.predict(X_test)\n",
    "\n",
    "# Confusion matrix \n",
    "from sklearn.metrics import confusion_matrix, classification_report\n",
    "  \n",
    "cm = confusion_matrix(y_test, y_pred)\n",
    "conf_matrix = pd.DataFrame(data = cm, \n",
    "                           columns = ['Predicted:0', 'Predicted:1'], \n",
    "                           index =['Actual:0', 'Actual:1'])\n",
    "plt.figure(figsize = (8, 5))\n",
    "sns.heatmap(conf_matrix, annot = True, fmt = 'd', cmap = \"Blues\")\n",
    "plt.show()\n",
    "  \n",
    "#print('Classification Report: =')\n",
    "#print (classification_report(y_test, y_pred))\n",
    "\n"
   ]
  },
  {
   "cell_type": "markdown",
   "metadata": {},
   "source": [
    "**True Negative**  | **False Postive**\n",
    "\n",
    "**False Negative** | **True Postive**  "
   ]
  },
  {
   "cell_type": "code",
   "execution_count": 92,
   "metadata": {},
   "outputs": [
    {
     "name": "stdout",
     "output_type": "stream",
     "text": [
      "This is of the 302 real users only 6 were misclassified as bots and of the 186 bots only 13 were misclassified as real users.\n"
     ]
    }
   ],
   "source": [
    "print('This is of the', cm[0,0], 'real users only', cm[0,1], 'were misclassified as bots and of the', cm[1,1], 'bots only', cm[1,0],'were misclassified as real users.')"
   ]
  },
  {
   "cell_type": "markdown",
   "metadata": {},
   "source": [
    "## Results for Random Forest Classifier using four attributes: \n",
    "1. number of friends \n",
    "\n",
    "2. number of tweets \n",
    "\n",
    "3. $\\frac{friends}{followers^2}$ \n",
    "\n",
    "4. favourites_count.\n",
    "\n",
    "Breifly, this can be interpreted as:\n",
    "\n",
    "* **True Negative:** number of real users determined by the classifier to be real users\n",
    "\n",
    "* **True Positive:** number of bots determined by the classifier to be bots\n",
    "\n",
    "* **False Positive:** number real users determined by the classifier to be bots\n",
    "\n",
    "* **False Negative:** number bots recognized by the classifier to be real users\n",
    "\n",
    "Using the four attibutes we see that the accuracy for the Random Forest Classifier is ~0.96 using the testing data. Overall, this is realtivley high score and is showing good results with regards to classifying real user from bots based on the four attributes.  "
   ]
  },
  {
   "cell_type": "markdown",
   "metadata": {},
   "source": [
    "# Drop most important factor and see how this effects the model\n",
    "Most important factor is favorites count so this will be dropped. "
   ]
  },
  {
   "cell_type": "code",
   "execution_count": 36,
   "metadata": {},
   "outputs": [],
   "source": [
    "real_user_andBots1 = Compute_all_attributes_RF(real_users,socbots_1)\n",
    "real_user_andBots1 = real_user_andBots1.reset_index(drop=True)"
   ]
  },
  {
   "cell_type": "code",
   "execution_count": 26,
   "metadata": {},
   "outputs": [
    {
     "name": "stdout",
     "output_type": "stream",
     "text": [
      "Are there NaNs in this Data:  True\n",
      "Are there NaNs in this Data:  False\n",
      "Train set: (1181, 3) (1181,)\n",
      "Test set: (507, 3) (507,)\n"
     ]
    }
   ],
   "source": [
    "#there are some nans in the rows so I'll drop all rows which have any nana\n",
    "print('Are there NaNs in this Data: ',real_user_andBots1.isnull().values.any())\n",
    "real_user_andBots1 = real_user_andBots1.dropna()\n",
    "print('Are there NaNs in this Data: ',real_user_andBots1.isnull().values.any())\n",
    "\n",
    "X = np.asarray(real_user_andBots1[[ 'friends_count', 'followers_count',\n",
    "       'friends/followers^2']])\n",
    "y = np.asarray(real_user_andBots1['bot'])\n",
    "\n",
    "## Begin splitting data\n",
    "# Use Train and Test plit to split the data into two sets.\n",
    "X_train, X_test, y_train, y_test = train_test_split( \n",
    "        X, y, test_size = 0.3)\n",
    "print ('Train set:', X_train.shape,  y_train.shape)\n",
    "print ('Test set:', X_test.shape,  y_test.shape)"
   ]
  },
  {
   "cell_type": "code",
   "execution_count": 27,
   "metadata": {},
   "outputs": [
    {
     "data": {
      "image/png": "[encoded data removed]",
      "text/plain": [
       "<Figure size 576x360 with 1 Axes>"
      ]
     },
     "metadata": {},
     "output_type": "display_data"
    }
   ],
   "source": [
    "#preprocess the train and test set to avoid max iter warning. \n",
    "scaler = preprocessing.StandardScaler()\n",
    "X_train = scaler.fit_transform(X_train)\n",
    "X_test = scaler.transform(X_test)\n",
    "\n",
    "#show the data after processing\n",
    "labels = ['friends_count', 'followers_count',\n",
    "       'friends/followers^2']\n",
    "\n",
    "df = pd.DataFrame(X_train,columns = labels)\n",
    "sns.set(rc={'figure.figsize':(8,5)})\n",
    "plt.title('After to normalizing and transforming');\n",
    "sns.stripplot(data = df);"
   ]
  },
  {
   "cell_type": "code",
   "execution_count": 28,
   "metadata": {},
   "outputs": [
    {
     "name": "stdout",
     "output_type": "stream",
     "text": [
      "Random Forest Test Score:  0.8106508875739645\n",
      "Random Forest Train Score:  0.8450465707027942\n"
     ]
    },
    {
     "data": {
      "image/png": "[encoded data removed]",
      "text/plain": [
       "<Figure size 576x360 with 1 Axes>"
      ]
     },
     "metadata": {},
     "output_type": "display_data"
    }
   ],
   "source": [
    "rf= RandomForestClassifier(n_estimators = 50, random_state=20,max_depth=5) #n_estimator = DT\n",
    "rf.fit(X_train,y_train) # learning\n",
    "\n",
    "print(\"Random Forest Test Score: \",rf.score(X_test,y_test))\n",
    "print(\"Random Forest Train Score: \",rf.score(X_train,y_train))\n",
    "\n",
    "importances = rf.feature_importances_\n",
    "importances = pd.DataFrame(importances,['friends_count', 'followers_count',\n",
    "       'friends/followers^2'])\n",
    "importances=importances.rename(columns={0: \"Features_Importance\"})\n",
    "importances  = importances.Features_Importance.sort_values()\n",
    "importances.plot.bar();"
   ]
  },
  {
   "cell_type": "code",
   "execution_count": 30,
   "metadata": {},
   "outputs": [
    {
     "data": {
      "image/png": "[encoded data removed]",
      "text/plain": [
       "<Figure size 576x360 with 2 Axes>"
      ]
     },
     "metadata": {},
     "output_type": "display_data"
    },
    {
     "name": "stdout",
     "output_type": "stream",
     "text": [
      "Classification Report: =\n",
      "              precision    recall  f1-score   support\n",
      "\n",
      "           0       0.79      0.94      0.86       307\n",
      "           1       0.88      0.60      0.72       200\n",
      "\n",
      "    accuracy                           0.81       507\n",
      "   macro avg       0.83      0.77      0.79       507\n",
      "weighted avg       0.82      0.81      0.80       507\n",
      "\n"
     ]
    }
   ],
   "source": [
    "#predict how well model fits the known data.\n",
    "y_pred = rf.predict(X_test)\n",
    "\n",
    "# Confusion matrix \n",
    "from sklearn.metrics import confusion_matrix, classification_report\n",
    "  \n",
    "cm = confusion_matrix(y_test, y_pred)\n",
    "conf_matrix = pd.DataFrame(data = cm, \n",
    "                           columns = ['Predicted:0', 'Predicted:1'], \n",
    "                           index =['Actual:0', 'Actual:1'])\n",
    "plt.figure(figsize = (8, 5))\n",
    "sns.heatmap(conf_matrix, annot = True, fmt = 'd', cmap = \"Blues\")\n",
    "plt.show()\n",
    "  \n",
    "print('Classification Report: =')\n",
    "print (classification_report(y_test, y_pred))\n"
   ]
  },
  {
   "cell_type": "markdown",
   "metadata": {},
   "source": [
    "# clearly I was lucky picking the attributes as droping just the one factor significantly changed the accuracy of the classification."
   ]
  },
  {
   "cell_type": "code",
   "execution_count": 108,
   "metadata": {},
   "outputs": [],
   "source": [
    "def controller_RF(df_real_users,df_bot):\n",
    "    \"\"\"Creates a Random Forest Classifier for bot detection. \n",
    "    \n",
    "    Parameters:\n",
    "        df (pd.df): Takes two df\n",
    "        \n",
    "    Returns:\n",
    "        df (pd.df): the accuracy of the test and training data after classification using random forest. \n",
    "        \n",
    "    Note: \n",
    "    \"\"\"\n",
    "\n",
    "    #We have unbalanced data so might combine to make\n",
    "    #sizes more equal size bot not makes training less accurate. \n",
    "    df_real_users = df_real_users.sample(n=1000)\n",
    "    df_real_users.shape\n",
    "\n",
    "    real_user_andBots1 = Compute_all_attributes_RF(df_real_users,df_bot)\n",
    "    real_user_andBots1 = real_user_andBots1.reset_index(drop=True)\n",
    "\n",
    "    #there are some nans in the rows so I'll drop all rows which have any nana\n",
    "    print('Are there NaNs in this Data: ',real_user_andBots1.isnull().values.any())\n",
    "    real_user_andBots1 = real_user_andBots1.dropna()\n",
    "    real_user_andBots1.isnull().values.any()\n",
    "    print('After droping Nans - are there NaNs in this Data: ',real_user_andBots1.isnull().values.any())\n",
    "\n",
    "    ## Begin splitting data\n",
    "    X = np.asarray(real_user_andBots1[[ 'friends_count', 'favourites_count', 'followers_count',\n",
    "           'friends/followers^2']])\n",
    "    y = np.asarray(real_user_andBots1['bot'])\n",
    "\n",
    "    # Use Train and Test split to split the data into two sets.\n",
    "    X_train, X_test, y_train, y_test = train_test_split( \n",
    "            X, y, test_size = 0.3)\n",
    "    print ('Train set:', X_train.shape,  y_train.shape)\n",
    "    print ('Test set:', X_test.shape,  y_test.shape)\n",
    "\n",
    "    #preprocess the train and test sets\n",
    "    scaler = preprocessing.StandardScaler()\n",
    "    X_train = scaler.fit_transform(X_train)\n",
    "    X_test = scaler.transform(X_test)\n",
    "\n",
    "    #fit data to model\n",
    "    rf= RandomForestClassifier(n_estimators = 50, random_state=20,max_depth=5) #n_estimator = DT\n",
    "    rf.fit(X_train,y_train) # learning\n",
    "\n",
    "    print(\"Random Forest Test Score: \",rf.score(X_test,y_test))\n",
    "    print(\"Random Forest Train Score: \",rf.score(X_train,y_train))"
   ]
  },
  {
   "cell_type": "code",
   "execution_count": 110,
   "metadata": {},
   "outputs": [
    {
     "name": "stdout",
     "output_type": "stream",
     "text": [
      "Are there NaNs in this Data:  True\n",
      "After droping Nans - are there NaNs in this Data:  False\n",
      "Train set: (1399, 4) (1399,)\n",
      "Test set: (600, 4) (600,)\n",
      "Random Forest Test Score:  0.9783333333333334\n",
      "Random Forest Train Score:  0.9921372408863474\n"
     ]
    }
   ],
   "source": [
    "controller_RF(real_users,tradbot_1)"
   ]
  },
  {
   "cell_type": "code",
   "execution_count": 111,
   "metadata": {},
   "outputs": [
    {
     "name": "stdout",
     "output_type": "stream",
     "text": [
      "Are there NaNs in this Data:  False\n",
      "After droping Nans - are there NaNs in this Data:  False\n",
      "Train set: (770, 4) (770,)\n",
      "Test set: (330, 4) (330,)\n",
      "Random Forest Test Score:  0.9939393939393939\n",
      "Random Forest Train Score:  1.0\n"
     ]
    }
   ],
   "source": [
    "controller_RF(real_users,tradbot_2)"
   ]
  },
  {
   "cell_type": "code",
   "execution_count": 112,
   "metadata": {},
   "outputs": [
    {
     "name": "stdout",
     "output_type": "stream",
     "text": [
      "Are there NaNs in this Data:  False\n",
      "After droping Nans - are there NaNs in this Data:  False\n",
      "Train set: (1489, 4) (1489,)\n",
      "Test set: (639, 4) (639,)\n",
      "Random Forest Test Score:  0.9968701095461658\n",
      "Random Forest Train Score:  1.0\n"
     ]
    }
   ],
   "source": [
    "controller_RF(real_users,tradbot_4)"
   ]
  },
  {
   "cell_type": "code",
   "execution_count": 113,
   "metadata": {},
   "outputs": [
    {
     "name": "stdout",
     "output_type": "stream",
     "text": [
      "Are there NaNs in this Data:  True\n",
      "After droping Nans - are there NaNs in this Data:  False\n",
      "Train set: (1181, 4) (1181,)\n",
      "Test set: (507, 4) (507,)\n",
      "Random Forest Test Score:  0.9585798816568047\n",
      "Random Forest Train Score:  0.9813717188823031\n"
     ]
    }
   ],
   "source": [
    "controller_RF(real_users,socbots_1)"
   ]
  },
  {
   "cell_type": "code",
   "execution_count": 114,
   "metadata": {},
   "outputs": [
    {
     "name": "stdout",
     "output_type": "stream",
     "text": [
      "Are there NaNs in this Data:  False\n",
      "After droping Nans - are there NaNs in this Data:  False\n",
      "Train set: (1024, 4) (1024,)\n",
      "Test set: (440, 4) (440,)\n",
      "Random Forest Test Score:  0.9727272727272728\n",
      "Random Forest Train Score:  0.986328125\n"
     ]
    }
   ],
   "source": [
    "controller_RF(real_users,socbots_3)"
   ]
  }
 ],
 "metadata": {
  "kernelspec": {
   "display_name": "Python 3",
   "language": "python",
   "name": "python3"
  },
  "language_info": {
   "codemirror_mode": {
    "name": "ipython",
    "version": 3
   },
   "file_extension": ".py",
   "mimetype": "text/x-python",
   "name": "python",
   "nbconvert_exporter": "python",
   "pygments_lexer": "ipython3",
   "version": "3.8.5"
  }
 },
 "nbformat": 4,
 "nbformat_minor": 4
}

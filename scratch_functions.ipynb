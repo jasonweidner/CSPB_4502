{
 "cells": [
  {
   "cell_type": "code",
   "execution_count": 1,
   "id": "southern-retailer",
   "metadata": {},
   "outputs": [],
   "source": [
    "import numpy as np"
   ]
  },
  {
   "cell_type": "code",
   "execution_count": 2,
   "id": "dominant-airfare",
   "metadata": {},
   "outputs": [],
   "source": [
    "Gx = np.array([\n",
    "        [1, 0, -1],\n",
    "        [2, 0, -2],\n",
    "        [1, 0, -1]\n",
    "    ])"
   ]
  },
  {
   "cell_type": "code",
   "execution_count": 3,
   "id": "superior-violin",
   "metadata": {},
   "outputs": [],
   "source": [
    "Gy = np.array([\n",
    "        [-1, -2, -1],\n",
    "        [0, 0, 0],\n",
    "        [1, 2, 1]\n",
    "    ])"
   ]
  },
  {
   "cell_type": "code",
   "execution_count": 17,
   "id": "enormous-journal",
   "metadata": {},
   "outputs": [],
   "source": [
    "temp = np.array([\n",
    "        [1, 1, 1],\n",
    "        [1, 1, 1],\n",
    "        [2, 3, 3]\n",
    "    ])"
   ]
  },
  {
   "cell_type": "code",
   "execution_count": 18,
   "id": "british-census",
   "metadata": {},
   "outputs": [
    {
     "data": {
      "text/plain": [
       "15"
      ]
     },
     "execution_count": 18,
     "metadata": {},
     "output_type": "execute_result"
    }
   ],
   "source": [
    "np.absolute(Gy*temp).sum()"
   ]
  },
  {
   "cell_type": "code",
   "execution_count": 19,
   "id": "acknowledged-alignment",
   "metadata": {},
   "outputs": [],
   "source": [
    "num_rows = 5\n",
    "num_cols = 6"
   ]
  },
  {
   "cell_type": "code",
   "execution_count": 21,
   "id": "healthy-concept",
   "metadata": {},
   "outputs": [],
   "source": [
    "seams = []"
   ]
  },
  {
   "cell_type": "code",
   "execution_count": 22,
   "id": "satisfied-graduate",
   "metadata": {},
   "outputs": [],
   "source": [
    "i = 1\n",
    "for r in range(num_rows):\n",
    "    temp_row = []\n",
    "    for c in range(num_cols):\n",
    "        temp_row.append(i)\n",
    "        i+=1\n",
    "    seams.append(temp_row)"
   ]
  },
  {
   "cell_type": "code",
   "execution_count": 23,
   "id": "interim-reconstruction",
   "metadata": {},
   "outputs": [
    {
     "data": {
      "text/plain": [
       "[[1, 2, 3, 4, 5, 6],\n",
       " [7, 8, 9, 10, 11, 12],\n",
       " [13, 14, 15, 16, 17, 18],\n",
       " [19, 20, 21, 22, 23, 24],\n",
       " [25, 26, 27, 28, 29, 30]]"
      ]
     },
     "execution_count": 23,
     "metadata": {},
     "output_type": "execute_result"
    }
   ],
   "source": [
    "seams"
   ]
  },
  {
   "cell_type": "code",
   "execution_count": 24,
   "id": "infrared-repair",
   "metadata": {},
   "outputs": [
    {
     "data": {
      "text/plain": [
       "[1, 2, 3, 4, 5, 6]"
      ]
     },
     "execution_count": 24,
     "metadata": {},
     "output_type": "execute_result"
    }
   ],
   "source": [
    "seams[0]"
   ]
  },
  {
   "cell_type": "code",
   "execution_count": 26,
   "id": "velvet-optimization",
   "metadata": {},
   "outputs": [
    {
     "data": {
      "text/plain": [
       "[1, 2, 3, 4, 5, 6]"
      ]
     },
     "execution_count": 26,
     "metadata": {},
     "output_type": "execute_result"
    }
   ],
   "source": [
    "seams[0][:]"
   ]
  },
  {
   "cell_type": "code",
   "execution_count": 27,
   "id": "bulgarian-western",
   "metadata": {},
   "outputs": [
    {
     "ename": "SyntaxError",
     "evalue": "invalid syntax (<ipython-input-27-2263afe500cd>, line 1)",
     "output_type": "error",
     "traceback": [
      "\u001b[0;36m  File \u001b[0;32m\"<ipython-input-27-2263afe500cd>\"\u001b[0;36m, line \u001b[0;32m1\u001b[0m\n\u001b[0;31m    [[  9. 225.   0.   9.   9.   8.]\u001b[0m\n\u001b[0m              ^\u001b[0m\n\u001b[0;31mSyntaxError\u001b[0m\u001b[0;31m:\u001b[0m invalid syntax\n"
     ]
    }
   ],
   "source": [
    " [[  9. 225.   0.   9.   9.   8.]\n",
    " [  9.   1. 225.   8.   9.   8.]\n",
    " [  9.   9.   0. 225.   0.   8.]\n",
    " [  9.   9.   9. 225. 225.   8.]\n",
    " [  9.   9. 225.   0. 225.   8.]]\n"
   ]
  },
  {
   "cell_type": "code",
   "execution_count": 28,
   "id": "meaningful-boutique",
   "metadata": {},
   "outputs": [],
   "source": [
    "a = [1,2,3,4]"
   ]
  },
  {
   "cell_type": "code",
   "execution_count": 29,
   "id": "exceptional-radar",
   "metadata": {},
   "outputs": [
    {
     "data": {
      "text/plain": [
       "[]"
      ]
     },
     "execution_count": 29,
     "metadata": {},
     "output_type": "execute_result"
    }
   ],
   "source": [
    "a[:0]"
   ]
  },
  {
   "cell_type": "code",
   "execution_count": 30,
   "id": "domestic-petite",
   "metadata": {},
   "outputs": [
    {
     "data": {
      "text/plain": [
       "[2, 3, 4]"
      ]
     },
     "execution_count": 30,
     "metadata": {},
     "output_type": "execute_result"
    }
   ],
   "source": [
    "a[1:]"
   ]
  },
  {
   "cell_type": "code",
   "execution_count": 31,
   "id": "fifty-eating",
   "metadata": {},
   "outputs": [
    {
     "data": {
      "text/plain": [
       "1"
      ]
     },
     "execution_count": 31,
     "metadata": {},
     "output_type": "execute_result"
    }
   ],
   "source": [
    "a.pop(0)"
   ]
  },
  {
   "cell_type": "code",
   "execution_count": 32,
   "id": "underlying-portfolio",
   "metadata": {},
   "outputs": [
    {
     "data": {
      "text/plain": [
       "[2, 3, 4]"
      ]
     },
     "execution_count": 32,
     "metadata": {},
     "output_type": "execute_result"
    }
   ],
   "source": [
    "a"
   ]
  },
  {
   "cell_type": "code",
   "execution_count": 34,
   "id": "least-storm",
   "metadata": {},
   "outputs": [
    {
     "data": {
      "text/plain": [
       "([2, 4, 1], [1, 2, 4])"
      ]
     },
     "execution_count": 34,
     "metadata": {},
     "output_type": "execute_result"
    }
   ],
   "source": [
    "a = [2, 4, 1]\n",
    "b = sorted(a)\n",
    "a, b"
   ]
  },
  {
   "cell_type": "code",
   "execution_count": 35,
   "id": "double-premium",
   "metadata": {},
   "outputs": [
    {
     "data": {
      "text/plain": [
       "<enumerate at 0x10ae7fdc8>"
      ]
     },
     "execution_count": 35,
     "metadata": {},
     "output_type": "execute_result"
    }
   ],
   "source": [
    "c = enumerate(a)\n",
    "c"
   ]
  },
  {
   "cell_type": "code",
   "execution_count": 36,
   "id": "nearby-carroll",
   "metadata": {},
   "outputs": [
    {
     "name": "stdout",
     "output_type": "stream",
     "text": [
      "(0, 2)\n",
      "(1, 4)\n",
      "(2, 1)\n"
     ]
    }
   ],
   "source": [
    "for part in c:\n",
    "    print(part)"
   ]
  },
  {
   "cell_type": "code",
   "execution_count": 38,
   "id": "relevant-thong",
   "metadata": {},
   "outputs": [
    {
     "ename": "AttributeError",
     "evalue": "'enumerate' object has no attribute 'length'",
     "output_type": "error",
     "traceback": [
      "\u001b[0;31m---------------------------------------------------------------------------\u001b[0m",
      "\u001b[0;31mAttributeError\u001b[0m                            Traceback (most recent call last)",
      "\u001b[0;32m<ipython-input-38-4b266e9af29b>\u001b[0m in \u001b[0;36m<module>\u001b[0;34m\u001b[0m\n\u001b[0;32m----> 1\u001b[0;31m \u001b[0mc\u001b[0m\u001b[0;34m.\u001b[0m\u001b[0mlength\u001b[0m\u001b[0;34m(\u001b[0m\u001b[0;34m)\u001b[0m\u001b[0;34m\u001b[0m\u001b[0;34m\u001b[0m\u001b[0m\n\u001b[0m",
      "\u001b[0;31mAttributeError\u001b[0m: 'enumerate' object has no attribute 'length'"
     ]
    }
   ],
   "source": [
    "c.length()"
   ]
  },
  {
   "cell_type": "code",
   "execution_count": 41,
   "id": "protected-garden",
   "metadata": {},
   "outputs": [
    {
     "ename": "NameError",
     "evalue": "name 'List' is not defined",
     "output_type": "error",
     "traceback": [
      "\u001b[0;31m---------------------------------------------------------------------------\u001b[0m",
      "\u001b[0;31mNameError\u001b[0m                                 Traceback (most recent call last)",
      "\u001b[0;32m<ipython-input-41-14e9be00c631>\u001b[0m in \u001b[0;36m<module>\u001b[0;34m\u001b[0m\n\u001b[0;32m----> 1\u001b[0;31m \u001b[0md\u001b[0m \u001b[0;34m=\u001b[0m \u001b[0mList\u001b[0m\u001b[0;34m(\u001b[0m\u001b[0mc\u001b[0m\u001b[0;34m)\u001b[0m\u001b[0;34m\u001b[0m\u001b[0;34m\u001b[0m\u001b[0m\n\u001b[0m\u001b[1;32m      2\u001b[0m \u001b[0mlen\u001b[0m\u001b[0;34m(\u001b[0m\u001b[0md\u001b[0m\u001b[0;34m)\u001b[0m\u001b[0;34m\u001b[0m\u001b[0;34m\u001b[0m\u001b[0m\n",
      "\u001b[0;31mNameError\u001b[0m: name 'List' is not defined"
     ]
    }
   ],
   "source": [
    "d = List(c)\n",
    "len(d)"
   ]
  },
  {
   "cell_type": "code",
   "execution_count": 40,
   "id": "cutting-person",
   "metadata": {},
   "outputs": [
    {
     "data": {
      "text/plain": [
       "[]"
      ]
     },
     "execution_count": 40,
     "metadata": {},
     "output_type": "execute_result"
    }
   ],
   "source": [
    "d"
   ]
  },
  {
   "cell_type": "code",
   "execution_count": null,
   "id": "brazilian-stylus",
   "metadata": {},
   "outputs": [],
   "source": []
  },
  {
   "cell_type": "code",
   "execution_count": null,
   "id": "accompanied-cooperation",
   "metadata": {},
   "outputs": [],
   "source": []
  },
  {
   "cell_type": "code",
   "execution_count": 43,
   "id": "moving-pacific",
   "metadata": {},
   "outputs": [
    {
     "ename": "ModuleNotFoundError",
     "evalue": "No module named 'pandas'",
     "output_type": "error",
     "traceback": [
      "\u001b[0;31m---------------------------------------------------------------------------\u001b[0m",
      "\u001b[0;31mModuleNotFoundError\u001b[0m                       Traceback (most recent call last)",
      "\u001b[0;32m<ipython-input-43-7dd3504c366f>\u001b[0m in \u001b[0;36m<module>\u001b[0;34m\u001b[0m\n\u001b[0;32m----> 1\u001b[0;31m \u001b[0;32mimport\u001b[0m \u001b[0mpandas\u001b[0m \u001b[0;32mas\u001b[0m \u001b[0mpd\u001b[0m\u001b[0;34m\u001b[0m\u001b[0;34m\u001b[0m\u001b[0m\n\u001b[0m",
      "\u001b[0;31mModuleNotFoundError\u001b[0m: No module named 'pandas'"
     ]
    }
   ],
   "source": [
    "import pandas as pd"
   ]
  },
  {
   "cell_type": "code",
   "execution_count": null,
   "id": "strong-reflection",
   "metadata": {},
   "outputs": [],
   "source": [
    "def get_tweets_from_user(user_id):\n",
    "    \"\"\" Opens a csv files of many tweets from many users and returns only tweets from user_id.\"\"\"\n",
    "    \n",
    "    return tweets"
   ]
  },
  {
   "cell_type": "code",
   "execution_count": 42,
   "id": "patent-battlefield",
   "metadata": {},
   "outputs": [],
   "source": [
    "def has_tweeted_user_id(user_id, tweets):\n",
    "    \"\"\"Returns true/false if a user has tweeted a user_id.\n",
    "    \n",
    "    Parameters:\n",
    "        user_id (Int): This is the Twitter user id number for a given user.\n",
    "        tweets (DataFrame): subset of tweets in (dataset.csv) from user with id user_id\n",
    "    \n",
    "    Returns:\n",
    "        (Boolean): true if user_id has tweeted a different user's id in tweets.\n",
    "    \"\"\"\n",
    "    \n",
    "    # for user_id, go through tweets and see if another user_id is present. Return true if found. Otherwise false.\n",
    "    \n",
    "    return result"
   ]
  },
  {
   "cell_type": "code",
   "execution_count": null,
   "id": "certified-contact",
   "metadata": {},
   "outputs": [],
   "source": [
    "def calculate_information_gain(data):\n",
    "    \"\"\" \"\"\"\n",
    "    return i_gain"
   ]
  },
  {
   "cell_type": "code",
   "execution_count": null,
   "id": "acting-universal",
   "metadata": {},
   "outputs": [],
   "source": [
    "list_of_user_ids = pd.DataFrame()"
   ]
  }
 ],
 "metadata": {
  "kernelspec": {
   "display_name": "Python 3",
   "language": "python",
   "name": "python3"
  },
  "language_info": {
   "codemirror_mode": {
    "name": "ipython",
    "version": 3
   },
   "file_extension": ".py",
   "mimetype": "text/x-python",
   "name": "python",
   "nbconvert_exporter": "python",
   "pygments_lexer": "ipython3",
   "version": "3.6.12"
  }
 },
 "nbformat": 4,
 "nbformat_minor": 5
}

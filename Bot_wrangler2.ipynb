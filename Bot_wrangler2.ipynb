{
 "cells": [
  {
   "cell_type": "code",
   "execution_count": 2,
   "metadata": {},
   "outputs": [
    {
     "name": "stdout",
     "output_type": "stream",
     "text": [
      "/Users/JQ/Documents/Data Mine/Bots Project/Data\n"
     ]
    }
   ],
   "source": [
    "%matplotlib inline\n",
    "import pandas as pd\n",
    "from zipfile import ZipFile # used to unzip folders\n",
    "import matplotlib.pyplot as plt\n",
    "import numpy as np\n",
    "import scipy\n",
    "import scipy.stats\n",
    "import math\n",
    "import os\n",
    "import glob\n",
    "os.listdir('.')\n",
    "#navigate to directory where data is stored. \n",
    "#f = os.path.expanduser(\"~/Documents/Data Mine/Bots Project/Data\")\n",
    "#os.chdir(f)\n",
    "path_parent = os.path.dirname(os.getcwd())\n",
    "f = os.path.expanduser('~'+ str(path_parent) +'/Data')\n",
    "print(os.path.join(os.path.expanduser('~'),path_parent,'Data'))\n",
    "os.chdir(os.path.join(os.path.expanduser('~'),path_parent,'Data'))"
   ]
  },
  {
   "cell_type": "code",
   "execution_count": 3,
   "metadata": {},
   "outputs": [],
   "source": [
    "#Source: https://www.geeksforgeeks.org/working-zip-files-python/\n",
    "\n",
    "# specifying the zip file name \n",
    "folder = \"cresci-2017.csv.zip\" #current working directory\n",
    "\n",
    "# opening the zip file in READ mode \n",
    "with ZipFile(folder, 'r') as zip:\n",
    "    zip.extractall() \n",
    "    \n",
    "os.chdir('datasets_full.csv')\n",
    "path = os.getcwd()"
   ]
  },
  {
   "cell_type": "code",
   "execution_count": 4,
   "metadata": {},
   "outputs": [
    {
     "name": "stdout",
     "output_type": "stream",
     "text": [
      "Done!\n"
     ]
    }
   ],
   "source": [
    "all_files = os.listdir('.')#get all files in current directory \n",
    "#all_files\n",
    "all_zip_files = [file for file in all_files if file.endswith('.zip')] # find only the zip files\n",
    "all_zip_files\n",
    "\n",
    "for file in all_zip_files:\n",
    "    with ZipFile(file, 'r') as zip: \n",
    "        zip.extractall() \n",
    "print('Done!')"
   ]
  },
  {
   "cell_type": "code",
   "execution_count": 6,
   "metadata": {},
   "outputs": [
    {
     "data": {
      "text/plain": [
       "'/Users/JQ/Documents/Data Mine/Bots Project/Data/datasets_full.csv'"
      ]
     },
     "execution_count": 6,
     "metadata": {},
     "output_type": "execute_result"
    }
   ],
   "source": [
    "path"
   ]
  },
  {
   "cell_type": "code",
   "execution_count": 5,
   "metadata": {},
   "outputs": [],
   "source": [
    "#source http://www.thegeekblog.co.uk/quick-tips/2018/3/21/remove-file-extension-from-files-using-python\n",
    "#remove all extensions from folders which contain csv extensions\n",
    "path = os.path.abspath(path) #current working directory\n",
    "for filename in glob.iglob(os.path.join(path, '*.csv')):\n",
    "    os.rename(filename, filename[:-4] + '')"
   ]
  },
  {
   "cell_type": "code",
   "execution_count": 13,
   "metadata": {},
   "outputs": [],
   "source": [
    "#source https://stackoverflow.com/questions/38948774/python-append-folder-name-to-filenames-in-all-sub-folders\n",
    "for root, dirs, files in os.walk(path):\n",
    "    if not files:\n",
    "        continue\n",
    "    prefix = os.path.basename(root)\n",
    "    for f in files:\n",
    "        os.rename(os.path.join(root, f), os.path.join(root, \"{}_{}\".format(prefix, f)))"
   ]
  },
  {
   "cell_type": "code",
   "execution_count": 14,
   "metadata": {},
   "outputs": [
    {
     "name": "stdout",
     "output_type": "stream",
     "text": [
      "crowdflower_results_crowdflower_results_aggregated.csv\n",
      "crowdflower_results_crowdflower_results_contributors.csv\n",
      "crowdflower_results_crowdflower_results_detailed.csv\n",
      "social_spambots_1_tweets.csv\n"
     ]
    },
    {
     "name": "stderr",
     "output_type": "stream",
     "text": [
      "/anaconda3/lib/python3.7/site-packages/IPython/core/interactiveshell.py:3020: DtypeWarning: Columns (10) have mixed types. Specify dtype option on import or set low_memory=False.\n",
      "  interactivity=interactivity, compiler=compiler, result=result)\n"
     ]
    },
    {
     "name": "stdout",
     "output_type": "stream",
     "text": [
      "social_spambots_1_users.csv\n",
      "fake_followers_tweets.csv\n"
     ]
    },
    {
     "name": "stderr",
     "output_type": "stream",
     "text": [
      "/anaconda3/lib/python3.7/site-packages/IPython/core/interactiveshell.py:3020: DtypeWarning: Columns (8,11) have mixed types. Specify dtype option on import or set low_memory=False.\n",
      "  interactivity=interactivity, compiler=compiler, result=result)\n"
     ]
    },
    {
     "name": "stdout",
     "output_type": "stream",
     "text": [
      "fake_followers_users.csv\n",
      "genuine_accounts_users.csv\n",
      "genuine_accounts_tweets.csv\n"
     ]
    },
    {
     "name": "stderr",
     "output_type": "stream",
     "text": [
      "/anaconda3/lib/python3.7/site-packages/IPython/core/interactiveshell.py:3020: DtypeWarning: Columns (0) have mixed types. Specify dtype option on import or set low_memory=False.\n",
      "  interactivity=interactivity, compiler=compiler, result=result)\n"
     ]
    },
    {
     "name": "stdout",
     "output_type": "stream",
     "text": [
      "traditional_spambots_3_users.csv\n",
      "traditional_spambots_4_users.csv\n",
      "traditional_spambots_2_users.csv\n",
      "crowdflower_results.csv_._crowdflower_results_aggregated.csv\n",
      "crowdflower_results.csv_._crowdflower_results_contributors.csv\n",
      "crowdflower_results.csv_._crowdflower_results_detailed.csv\n",
      "fake_followers.csv_._tweets.csv\n",
      "fake_followers.csv_._users.csv\n",
      "__MACOSX_._fake_followers.csv\n",
      "social_spambots_3_users.csv\n",
      "social_spambots_3_tweets.csv\n"
     ]
    },
    {
     "name": "stderr",
     "output_type": "stream",
     "text": [
      "/anaconda3/lib/python3.7/site-packages/IPython/core/interactiveshell.py:3020: DtypeWarning: Columns (7,10) have mixed types. Specify dtype option on import or set low_memory=False.\n",
      "  interactivity=interactivity, compiler=compiler, result=result)\n"
     ]
    },
    {
     "name": "stdout",
     "output_type": "stream",
     "text": [
      "social_spambots_2_users.csv\n",
      "social_spambots_2_tweets.csv\n",
      "traditional_spambots_1_users.csv\n",
      "traditional_spambots_1_tweets.csv\n"
     ]
    }
   ],
   "source": [
    "#use OS to find all CSV files\n",
    "# issue is alot of the cvs files are named the same so I attached their parent folder name to the file\n",
    "#to specify what dataset this assocsiated with. This is, genuine users, or bots and bot subclassification. \n",
    "list_df_frames = []\n",
    "root = '.'\n",
    "for dirName, subdirList, fileList in os.walk(root, topdown=False):\n",
    "    for f in fileList:\n",
    "        if (f.endswith('.csv') and not f.startswith('__MACOSX/')):\n",
    "            print(f)\n",
    "            filepath = os.path.join(root, dirName, f)\n",
    "            #print('    filePath: ',filepath)\n",
    "            list_df_frames.append(pd.read_csv(filepath))"
   ]
  },
  {
   "cell_type": "code",
   "execution_count": 5,
   "metadata": {},
   "outputs": [
    {
     "name": "stdout",
     "output_type": "stream",
     "text": [
      "Index(['crowdflower_id', 'trusted_answers', 'last_answer_at', 'class',\n",
      "       'class_confidence', 'ground_truth_class', 'comments', 'account_type',\n",
      "       'dataset', 'twitter_user_id', 'twitter_screen_name'],\n",
      "      dtype='object')\n",
      "\n",
      "Index(['contributor_id', 'external_id', 'answers_count', 'gold_count',\n",
      "       'missed_gold_count', 'channel', 'contributor_country',\n",
      "       'contributor_city', 'contributor_last_ip', 'trust_overall',\n",
      "       'submission_rate'],\n",
      "      dtype='object')\n",
      "\n",
      "Index(['crowdflower_id', 'channel', 'trust', 'contributor_id', 'class',\n",
      "       'ground_truth_class', 'comment', 'account_type', 'dataset',\n",
      "       'twitter_user_id', 'twitter_screen_name'],\n",
      "      dtype='object')\n",
      "\n",
      "Index(['id', 'text', 'source', 'user_id', 'truncated', 'in_reply_to_status_id',\n",
      "       'in_reply_to_user_id', 'in_reply_to_screen_name', 'retweeted_status_id',\n",
      "       'geo', 'place', 'contributors', 'retweet_count', 'reply_count',\n",
      "       'favorite_count', 'favorited', 'retweeted', 'possibly_sensitive',\n",
      "       'num_hashtags', 'num_urls', 'num_mentions', 'created_at', 'timestamp',\n",
      "       'crawled_at', 'updated'],\n",
      "      dtype='object')\n",
      "\n",
      "Index(['id', 'name', 'screen_name', 'statuses_count', 'followers_count',\n",
      "       'friends_count', 'favourites_count', 'listed_count', 'url', 'lang',\n",
      "       'time_zone', 'location', 'default_profile', 'default_profile_image',\n",
      "       'geo_enabled', 'profile_image_url', 'profile_banner_url',\n",
      "       'profile_use_background_image', 'profile_background_image_url_https',\n",
      "       'profile_text_color', 'profile_image_url_https',\n",
      "       'profile_sidebar_border_color', 'profile_background_tile',\n",
      "       'profile_sidebar_fill_color', 'profile_background_image_url',\n",
      "       'profile_background_color', 'profile_link_color', 'utc_offset',\n",
      "       'is_translator', 'follow_request_sent', 'protected', 'verified',\n",
      "       'notifications', 'description', 'contributors_enabled', 'following',\n",
      "       'created_at', 'timestamp', 'crawled_at', 'updated', 'test_set_1'],\n",
      "      dtype='object')\n",
      "\n",
      "Index(['created_at', 'id', 'text', 'source', 'user_id', 'truncated',\n",
      "       'in_reply_to_status_id', 'in_reply_to_user_id',\n",
      "       'in_reply_to_screen_name', 'retweeted_status_id', 'geo', 'place',\n",
      "       'contributors', 'retweet_count', 'reply_count', 'favorite_count',\n",
      "       'favorited', 'retweeted', 'possibly_sensitive', 'num_hashtags',\n",
      "       'num_urls', 'num_mentions', 'timestamp'],\n",
      "      dtype='object')\n",
      "\n",
      "Index(['id', 'name', 'screen_name', 'statuses_count', 'followers_count',\n",
      "       'friends_count', 'favourites_count', 'listed_count', 'created_at',\n",
      "       'url', 'lang', 'time_zone', 'location', 'default_profile',\n",
      "       'default_profile_image', 'geo_enabled', 'profile_image_url',\n",
      "       'profile_banner_url', 'profile_use_background_image',\n",
      "       'profile_background_image_url_https', 'profile_text_color',\n",
      "       'profile_image_url_https', 'profile_sidebar_border_color',\n",
      "       'profile_background_tile', 'profile_sidebar_fill_color',\n",
      "       'profile_background_image_url', 'profile_background_color',\n",
      "       'profile_link_color', 'utc_offset', 'is_translator',\n",
      "       'follow_request_sent', 'protected', 'verified', 'notifications',\n",
      "       'description', 'contributors_enabled', 'following', 'updated'],\n",
      "      dtype='object')\n",
      "\n",
      "Index(['id', 'name', 'screen_name', 'statuses_count', 'followers_count',\n",
      "       'friends_count', 'favourites_count', 'listed_count', 'url', 'lang',\n",
      "       'time_zone', 'location', 'default_profile', 'default_profile_image',\n",
      "       'geo_enabled', 'profile_image_url', 'profile_banner_url',\n",
      "       'profile_use_background_image', 'profile_background_image_url_https',\n",
      "       'profile_text_color', 'profile_image_url_https',\n",
      "       'profile_sidebar_border_color', 'profile_background_tile',\n",
      "       'profile_sidebar_fill_color', 'profile_background_image_url',\n",
      "       'profile_background_color', 'profile_link_color', 'utc_offset',\n",
      "       'is_translator', 'follow_request_sent', 'protected', 'verified',\n",
      "       'notifications', 'description', 'contributors_enabled', 'following',\n",
      "       'created_at', 'timestamp', 'crawled_at', 'updated', 'test_set_1',\n",
      "       'test_set_2'],\n",
      "      dtype='object')\n",
      "\n",
      "Index(['id', 'text', 'source', 'user_id', 'truncated', 'in_reply_to_status_id',\n",
      "       'in_reply_to_user_id', 'in_reply_to_screen_name', 'retweeted_status_id',\n",
      "       'geo', 'place', 'contributors', 'retweet_count', 'reply_count',\n",
      "       'favorite_count', 'favorited', 'retweeted', 'possibly_sensitive',\n",
      "       'num_hashtags', 'num_urls', 'num_mentions', 'created_at', 'timestamp',\n",
      "       'crawled_at', 'updated'],\n",
      "      dtype='object')\n",
      "\n",
      "Index(['id', 'name', 'screen_name', 'statuses_count', 'followers_count',\n",
      "       'friends_count', 'favourites_count', 'listed_count', 'url', 'lang',\n",
      "       'time_zone', 'location', 'default_profile', 'default_profile_image',\n",
      "       'geo_enabled', 'profile_image_url', 'profile_banner_url',\n",
      "       'profile_use_background_image', 'profile_background_image_url_https',\n",
      "       'profile_text_color', 'profile_image_url_https',\n",
      "       'profile_sidebar_border_color', 'profile_background_tile',\n",
      "       'profile_sidebar_fill_color', 'profile_background_image_url',\n",
      "       'profile_background_color', 'profile_link_color', 'utc_offset',\n",
      "       'is_translator', 'follow_request_sent', 'protected', 'verified',\n",
      "       'notifications', 'description', 'contributors_enabled', 'following',\n",
      "       'created_at', 'timestamp', 'crawled_at', 'updated'],\n",
      "      dtype='object')\n",
      "\n",
      "Index(['id', 'name', 'screen_name', 'statuses_count', 'followers_count',\n",
      "       'friends_count', 'favourites_count', 'listed_count', 'url', 'lang',\n",
      "       'time_zone', 'location', 'default_profile', 'default_profile_image',\n",
      "       'geo_enabled', 'profile_image_url', 'profile_banner_url',\n",
      "       'profile_use_background_image', 'profile_background_image_url_https',\n",
      "       'profile_text_color', 'profile_image_url_https',\n",
      "       'profile_sidebar_border_color', 'profile_background_tile',\n",
      "       'profile_sidebar_fill_color', 'profile_background_image_url',\n",
      "       'profile_background_color', 'profile_link_color', 'utc_offset',\n",
      "       'is_translator', 'follow_request_sent', 'protected', 'verified',\n",
      "       'notifications', 'description', 'contributors_enabled', 'following',\n",
      "       'created_at', 'timestamp', 'crawled_at', 'updated'],\n",
      "      dtype='object')\n",
      "\n",
      "Index(['id', 'name', 'screen_name', 'statuses_count', 'followers_count',\n",
      "       'friends_count', 'favourites_count', 'listed_count', 'url', 'lang',\n",
      "       'time_zone', 'location', 'default_profile', 'default_profile_image',\n",
      "       'geo_enabled', 'profile_image_url', 'profile_banner_url',\n",
      "       'profile_use_background_image', 'profile_background_image_url_https',\n",
      "       'profile_text_color', 'profile_image_url_https',\n",
      "       'profile_sidebar_border_color', 'profile_background_tile',\n",
      "       'profile_sidebar_fill_color', 'profile_background_image_url',\n",
      "       'profile_background_color', 'profile_link_color', 'utc_offset',\n",
      "       'is_translator', 'follow_request_sent', 'protected', 'verified',\n",
      "       'notifications', 'description', 'contributors_enabled', 'following',\n",
      "       'created_at', 'timestamp', 'crawled_at', 'updated'],\n",
      "      dtype='object')\n",
      "\n",
      "Index(['Unnamed: 0'], dtype='object')\n",
      "\n",
      "Index(['Unnamed: 0'], dtype='object')\n",
      "\n",
      "Index(['Unnamed: 0'], dtype='object')\n",
      "\n",
      "Index(['Unnamed: 0'], dtype='object')\n",
      "\n",
      "Index(['Unnamed: 0'], dtype='object')\n",
      "\n",
      "Index(['Unnamed: 0'], dtype='object')\n",
      "\n",
      "Index(['id', 'name', 'screen_name', 'statuses_count', 'followers_count',\n",
      "       'friends_count', 'favourites_count', 'listed_count', 'url', 'lang',\n",
      "       'time_zone', 'location', 'default_profile', 'default_profile_image',\n",
      "       'geo_enabled', 'profile_image_url', 'profile_banner_url',\n",
      "       'profile_use_background_image', 'profile_background_image_url_https',\n",
      "       'profile_text_color', 'profile_image_url_https',\n",
      "       'profile_sidebar_border_color', 'profile_background_tile',\n",
      "       'profile_sidebar_fill_color', 'profile_background_image_url',\n",
      "       'profile_background_color', 'profile_link_color', 'utc_offset',\n",
      "       'is_translator', 'follow_request_sent', 'protected', 'verified',\n",
      "       'notifications', 'description', 'contributors_enabled', 'following',\n",
      "       'created_at', 'timestamp', 'crawled_at', 'updated', 'test_set_2'],\n",
      "      dtype='object')\n",
      "\n",
      "Index(['id', 'text', 'source', 'user_id', 'truncated', 'in_reply_to_status_id',\n",
      "       'in_reply_to_user_id', 'in_reply_to_screen_name', 'retweeted_status_id',\n",
      "       'geo', 'place', 'contributors', 'retweet_count', 'reply_count',\n",
      "       'favorite_count', 'favorited', 'retweeted', 'possibly_sensitive',\n",
      "       'num_hashtags', 'num_urls', 'num_mentions', 'created_at', 'timestamp',\n",
      "       'crawled_at', 'updated'],\n",
      "      dtype='object')\n",
      "\n",
      "Index(['id', 'name', 'screen_name', 'statuses_count', 'followers_count',\n",
      "       'friends_count', 'favourites_count', 'listed_count', 'url', 'lang',\n",
      "       'time_zone', 'location', 'default_profile', 'default_profile_image',\n",
      "       'geo_enabled', 'profile_image_url', 'profile_banner_url',\n",
      "       'profile_use_background_image', 'profile_background_image_url_https',\n",
      "       'profile_text_color', 'profile_image_url_https',\n",
      "       'profile_sidebar_border_color', 'profile_background_tile',\n",
      "       'profile_sidebar_fill_color', 'profile_background_image_url',\n",
      "       'profile_background_color', 'profile_link_color', 'utc_offset',\n",
      "       'is_translator', 'follow_request_sent', 'protected', 'verified',\n",
      "       'notifications', 'description', 'contributors_enabled', 'following',\n",
      "       'created_at', 'timestamp', 'crawled_at', 'updated'],\n",
      "      dtype='object')\n",
      "\n",
      "Index(['id', 'text', 'source', 'user_id', 'truncated', 'in_reply_to_status_id',\n",
      "       'in_reply_to_user_id', 'in_reply_to_screen_name', 'retweeted_status_id',\n",
      "       'geo', 'place', 'contributors', 'retweet_count', 'reply_count',\n",
      "       'favorite_count', 'favorited', 'retweeted', 'possibly_sensitive',\n",
      "       'num_hashtags', 'num_urls', 'num_mentions', 'created_at', 'timestamp',\n",
      "       'crawled_at', 'updated'],\n",
      "      dtype='object')\n",
      "\n",
      "Index(['id', 'name', 'screen_name', 'statuses_count', 'followers_count',\n",
      "       'friends_count', 'favourites_count', 'listed_count', 'url', 'lang',\n",
      "       'time_zone', 'location', 'default_profile', 'default_profile_image',\n",
      "       'geo_enabled', 'profile_image_url', 'profile_banner_url',\n",
      "       'profile_use_background_image', 'profile_background_image_url_https',\n",
      "       'profile_text_color', 'profile_image_url_https',\n",
      "       'profile_sidebar_border_color', 'profile_background_tile',\n",
      "       'profile_sidebar_fill_color', 'profile_background_image_url',\n",
      "       'profile_background_color', 'profile_link_color', 'utc_offset',\n",
      "       'is_translator', 'follow_request_sent', 'protected', 'verified',\n",
      "       'notifications', 'description', 'contributors_enabled', 'following',\n",
      "       'created_at', 'timestamp', 'crawled_at', 'updated'],\n",
      "      dtype='object')\n",
      "\n",
      "Index(['id', 'text', 'source', 'user_id', 'truncated', 'in_reply_to_status_id',\n",
      "       'in_reply_to_user_id', 'in_reply_to_screen_name', 'retweeted_status_id',\n",
      "       'geo', 'place', 'contributors', 'retweet_count', 'reply_count',\n",
      "       'favorite_count', 'favorited', 'retweeted', 'possibly_sensitive',\n",
      "       'num_hashtags', 'num_urls', 'num_mentions', 'created_at', 'timestamp',\n",
      "       'crawled_at', 'updated'],\n",
      "      dtype='object')\n",
      "\n"
     ]
    }
   ],
   "source": [
    "#look at all columns \n",
    "it = (len(list_df_frames))\n",
    "for i in range(it):\n",
    "    (print(list_df_frames[i].columns))\n",
    "    print('')"
   ]
  },
  {
   "cell_type": "code",
   "execution_count": 55,
   "metadata": {},
   "outputs": [
    {
     "ename": "TypeError",
     "evalue": "'Index' object is not callable",
     "output_type": "error",
     "traceback": [
      "\u001b[0;31m---------------------------------------------------------------------------\u001b[0m",
      "\u001b[0;31mTypeError\u001b[0m                                 Traceback (most recent call last)",
      "\u001b[0;32m<ipython-input-55-d8eb053b8f0d>\u001b[0m in \u001b[0;36m<module>\u001b[0;34m\u001b[0m\n\u001b[1;32m     10\u001b[0m \u001b[0;31m#mask = d.default_profile_image  ==\u001b[0m\u001b[0;34m\u001b[0m\u001b[0;34m\u001b[0m\u001b[0;34m\u001b[0m\u001b[0m\n\u001b[1;32m     11\u001b[0m \u001b[0;31m#df.default_profile_image\u001b[0m\u001b[0;34m\u001b[0m\u001b[0;34m\u001b[0m\u001b[0;34m\u001b[0m\u001b[0m\n\u001b[0;32m---> 12\u001b[0;31m \u001b[0md\u001b[0m\u001b[0;34m.\u001b[0m\u001b[0mcolumns\u001b[0m\u001b[0;34m(\u001b[0m\u001b[0;34m)\u001b[0m\u001b[0;34m\u001b[0m\u001b[0;34m\u001b[0m\u001b[0m\n\u001b[0m",
      "\u001b[0;31mTypeError\u001b[0m: 'Index' object is not callable"
     ]
    }
   ],
   "source": [
    "d=list_df_frames[3]\n",
    "#x = pd.DataFrame(d.profile_image_url)\n",
    "#type(x.profile_image_url)\n",
    "\n",
    "#contains_non_string = d[d.profile_image_url.dtypes != str].any()\n",
    "\n",
    "#contains_non_string = d[len(d.profile_image_url) < 10]\n",
    "#['default_profile_image'].isnull().values.sum()\n",
    "#df = d.loc[mask]\n",
    "#mask = d.default_profile_image  == \n",
    "#df.default_profile_image"
   ]
  },
  {
   "cell_type": "code",
   "execution_count": null,
   "metadata": {},
   "outputs": [],
   "source": []
  }
 ],
 "metadata": {
  "kernelspec": {
   "display_name": "Python 3",
   "language": "python",
   "name": "python3"
  },
  "language_info": {
   "codemirror_mode": {
    "name": "ipython",
    "version": 3
   },
   "file_extension": ".py",
   "mimetype": "text/x-python",
   "name": "python",
   "nbconvert_exporter": "python",
   "pygments_lexer": "ipython3",
   "version": "3.7.1"
  }
 },
 "nbformat": 4,
 "nbformat_minor": 2
}

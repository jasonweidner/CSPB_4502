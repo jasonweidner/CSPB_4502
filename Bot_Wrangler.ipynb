{
 "cells": [
  {
   "cell_type": "markdown",
   "metadata": {},
   "source": [
    "# **Information Gain of Twitter ‘Social Spambots’**\n",
    "## By: Jason Weidner & Joaquin Quintana"
   ]
  },
  {
   "cell_type": "markdown",
   "metadata": {},
   "source": [
    "## **Directory setup for this script**\n",
    "I suggest we store the unzipped data to a directory that is one level above the git repo, and in a folder called 'data'. That way the data won't be included in our git repository and we can easily reference the same path in this notebook. It'll just mean that each of us need to move the data into the same relative path on our local machine."
   ]
  },
  {
   "cell_type": "markdown",
   "metadata": {},
   "source": [
    "Makes sense. I started to place the functions into the notebook following this structure. I downloaded the image of the file structure and placed it in the folder containing this notebook so it can be run and visualized prior to changing directories. \n",
    "\n",
    "Something to consider is using a statistical package like sklearn or should we code all the functions our selves? If we use a package maybe use Patsy for matrix methods. "
   ]
  },
  {
   "cell_type": "code",
   "execution_count": 1,
   "metadata": {},
   "outputs": [],
   "source": [
    "from IPython.display import Image\n",
    "from zipfile import ZipFile\n",
    "import os"
   ]
  },
  {
   "cell_type": "code",
   "execution_count": 2,
   "metadata": {},
   "outputs": [
    {
     "data": {
      "image/png": "[encoded data removed]",
      "text/plain": [
       "<IPython.core.display.Image object>"
      ]
     },
     "execution_count": 2,
     "metadata": {},
     "output_type": "execute_result"
    }
   ],
   "source": [
    "#Here's an example of the folder structure I described:\n",
    "#placed image in folder with this python notebook for user to run and see prior to opening any files\n",
    "Image(filename = 'Folder Structure Bot_Wrangler.png')"
   ]
  },
  {
   "cell_type": "markdown",
   "metadata": {},
   "source": [
    "# **Display image of folder structure.**"
   ]
  },
  {
   "cell_type": "markdown",
   "metadata": {},
   "source": [
    "## Here's an example of the folder structure I described:\n",
    "#placed image in folder with this python notebook for user to run and see prior to opening any files\n",
    "Image(filename = 'Folder Structure Bot_Wrangler.png')"
   ]
  },
  {
   "cell_type": "markdown",
   "metadata": {},
   "source": [
    "## **Begin Function Defintions for Notebook**"
   ]
  },
  {
   "cell_type": "code",
   "execution_count": 4,
   "metadata": {},
   "outputs": [],
   "source": [
    "#Template for function defintions\n",
    "def navigator():\n",
    "    \"\"\" Returns the information gain of attr_col in the dataframe df.\n",
    "    \n",
    "    Parameters:\n",
    "        attr_col (N/A): Navigates from the directory containing the python notebook up one leve to the \n",
    "        folder 'Data' which contains the zip file containing the raw data. Simply run the function after \n",
    "        folders are in aforementioned stucture with the folder containg the datanamed as 'Data'. This folder \n",
    "        should be one level up from the folder containing this notebook.\n",
    "        \n",
    "    \n",
    "    Returns: \n",
    "        (string): Prints the working directory. The specified folder is changed to the current working \n",
    "        directory.\n",
    "        \n",
    "    Note:\n",
    "        - This function will change the working directory and keep the notebook on the path to the data\n",
    "        folder. Allows for the notebook to access the data file remotly. \n",
    "    \"\"\"\n",
    "    path_parent = os.path.dirname(os.getcwd()) # get directory notebook \n",
    "    \n",
    "    # move up one level and find folder Data \n",
    "    f = os.path.join(os.path.expanduser('~'),path_parent,'Data')\n",
    "    \n",
    "    #change working directory to Data folder to start unzipping files\n",
    "    os.chdir(f)\n",
    "    return(f)"
   ]
  },
  {
   "cell_type": "code",
   "execution_count": 5,
   "metadata": {},
   "outputs": [
    {
     "data": {
      "text/plain": [
       "'/Users/JQ/Documents/Data Mine/Bots Project/Data'"
      ]
     },
     "execution_count": 5,
     "metadata": {},
     "output_type": "execute_result"
    }
   ],
   "source": [
    "#call navigator to find data folder and change path to this locations which holds the raw zip file\n",
    "navigator() "
   ]
  },
  {
   "cell_type": "code",
   "execution_count": 6,
   "metadata": {},
   "outputs": [],
   "source": [
    "def unzip_all_zips(Zip_File_Name):\n",
    "    \"\"\" Opens all zipfolders in the working directory the subsequent subdirectories. \n",
    "    \n",
    "    Parameters:\n",
    "        attr_col (string): input zip folder's name as a string. For example, 'folderName.zip'\n",
    "    \n",
    "    Returns: \n",
    "        (string): Print Done! When finished opening files.\n",
    "        \n",
    "    Note:\n",
    "        - This function will open all folders with ext .zip. \n",
    "        Warning! - function will overwrite all data with identical folder names \n",
    "    \"\"\"\n",
    "    # specifying the zip file name \n",
    "    folder = Zip_File_Name \n",
    "    \n",
    "    # opening the zip file in READ mode \n",
    "    with ZipFile(folder, 'r') as zip:\n",
    "        zip.extractall() \n",
    "\n",
    "    #navigate into subdirectory\n",
    "    os.chdir('datasets_full.csv')\n",
    "    path = os.getcwd()\n",
    "    \n",
    "    #get all files in subdirectory \n",
    "    all_files = os.listdir('.')\n",
    "    all_zip_files = [file for file in all_files if file.endswith('.zip')] # find only the zip files\n",
    "    \n",
    "    #open all identified zip files in subdriectory\n",
    "    for file in all_zip_files:\n",
    "        with ZipFile(file, 'r') as zip: \n",
    "            zip.extractall() \n",
    "            \n",
    "    return(\"Done!\")"
   ]
  },
  {
   "cell_type": "code",
   "execution_count": 7,
   "metadata": {},
   "outputs": [
    {
     "data": {
      "text/plain": [
       "'Done!'"
      ]
     },
     "execution_count": 7,
     "metadata": {},
     "output_type": "execute_result"
    }
   ],
   "source": [
    "unzip_all_zips('cresci-2017.csv.zip')"
   ]
  },
  {
   "cell_type": "code",
   "execution_count": null,
   "metadata": {},
   "outputs": [],
   "source": [
    "def remove_ext_from_folders_with_csv_ext(Folder_Name_Containing_Folders_With_CSV_ext):\n",
    "    \"\"\" Function removes typos from folders which specify folders as files with specific \n",
    "            file extensions. The file extensions on the folder prevents OS walk from finding \n",
    "            the correct files on a given path.\n",
    "    \n",
    "    Parameters:\n",
    "        attr_col (string): input folder as a string containing folders name . For example, 'datasets_full.csv'\n",
    "    \n",
    "    Returns: \n",
    "        (string): Print Done! When finished opening files.\n",
    "        \n",
    "    Note:\n",
    "        - \n",
    "    \"\"\"\n",
    "    #remove all extensions from folders which contain csv extensions\n",
    "    path = os.path.abspath(path) #current working directory\n",
    "    for filename in glob.iglob(os.path.join(path, '*.csv')):\n",
    "    os.rename(filename, filename[:-4] + '')\n",
    "    return "
   ]
  },
  {
   "cell_type": "code",
   "execution_count": null,
   "metadata": {},
   "outputs": [],
   "source": [
    "def remove_NaNs(Pandas_DataFrame):\n",
    "    \"\"\" Function take as Pandas DataFrame and removes all columns which are NaN. \n",
    "    \n",
    "    Parameters: \n",
    "        attr_col (Pandas DataFrame): input pandas DataFrame \n",
    "        \n",
    "    Returns: \n",
    "         (Pandas DataFrame): return Dataframe with all NaN columns removed.       \n",
    "        \n",
    "    Note: \n",
    "         \n",
    "    \"\"\"\n",
    "    \n",
    "    return Pandas_DataFrame.dropna(axis='columns')"
   ]
  },
  {
   "cell_type": "code",
   "execution_count": 10,
   "metadata": {},
   "outputs": [],
   "source": [
    "def get_columns_csv(csv_fileName, list_of_columns):   \n",
    "    \"\"\" Function reads the csv_fileName of interest and pulls the requested columns from the file. \n",
    "    All columns requested are placed into a new Pandas DataFrame and returned with a name specified by the user. \n",
    "     \n",
    "    \n",
    "    Parameters: \n",
    "        attr_col (string): string of fileName, a list of strings containing requested columns and name for output DataFrame.\n",
    "        \n",
    "    Returns: \n",
    "         (Pandas DataFrame): return a new Pandas DataFrame with specified name. The new Dataframe contains the columns requested.    \n",
    "        \n",
    "    Note: \n",
    "         \n",
    "    \"\"\"\n",
    "    return"
   ]
  },
  {
   "cell_type": "code",
   "execution_count": 2,
   "metadata": {},
   "outputs": [],
   "source": [
    "def Info_Gain_Attribute(attr_col, bot_flag_col, df):\n",
    "    \"\"\" Returns the information gain of attr_col in the dataframe df.\n",
    "    \n",
    "    Parameters:\n",
    "        attr_col (String): The name of the column we want to use for calculating information gain\n",
    "        bot_flag_col (String): The name of the column for bot_status (i.e. authentic user or bot)\n",
    "        df (DataFrame): Df containing all the data\n",
    "        \n",
    "    \n",
    "    Returns: \n",
    "        (np.float64): The information gain of attr_col in df.\n",
    "        \n",
    "    Note:\n",
    "        - This function will call Info_gain_dataset in order to calculate info_gain_attribute.\n",
    "    \"\"\"\n",
    "    return"
   ]
  },
  {
   "cell_type": "code",
   "execution_count": null,
   "metadata": {},
   "outputs": [],
   "source": [
    "def create_30_follower_flag(fn):\n",
    "    \"\"\"  \"\"\"\n",
    "    return"
   ]
  },
  {
   "cell_type": "code",
   "execution_count": 11,
   "metadata": {},
   "outputs": [],
   "source": [
    "#Template for function defintions\n",
    "def Info_Gain_Dataset(attr_col, bot_flag_col, df):\n",
    "    \"\"\" Returns the information gain of attr_col in the dataframe df.\n",
    "    \n",
    "    Parameters:\n",
    "        attr_col (String): The name of the column we want to use for calculating information gain\n",
    "        bot_flag_col (String): The name of the column for bot_status (i.e. authentic user or bot)\n",
    "        df (DataFrame): Df containing all the data\n",
    "        \n",
    "    \n",
    "    Returns: \n",
    "        (np.float64): The information gain of attr_col in df.\n",
    "        \n",
    "    Note:\n",
    "        - This function will call Info_gain_dataset in order to calculate info_gain_attribute.\n",
    "    \"\"\"\n",
    "    return"
   ]
  },
  {
   "cell_type": "code",
   "execution_count": 10,
   "metadata": {},
   "outputs": [],
   "source": [
    "#\n",
    "def Info_Gain_Attribute(attr_col, bot_flag_col, df):\n",
    "    \"\"\" Returns the information gain of attr_col in the dataframe df.\n",
    "    \n",
    "    Parameters:\n",
    "        attr_col (String): The name of the column we want to use for calculating information gain\n",
    "        bot_flag_col (String): The name of the column for bot_status (i.e. authentic user or bot)\n",
    "        df (DataFrame): Df containing all the data\n",
    "        \n",
    "    \n",
    "    Returns: \n",
    "        (np.float64): The information gain of attr_col in df.\n",
    "        \n",
    "    Note:\n",
    "        - This function will call Info_gain_dataset in order to calculate info_gain_attribute.\n",
    "    \"\"\"\n",
    "    return(0)"
   ]
  },
  {
   "cell_type": "code",
   "execution_count": null,
   "metadata": {},
   "outputs": [],
   "source": [
    "def create_col_has_over_30_followers(df):\n",
    "    \"\"\"Creates a df with two columns: usid and if the user have over 30 followers.\n",
    "    \n",
    "    Parameters:\n",
    "        df (pd.df): a dataframe with at least two columns: \"usid\" and \"follower count\"\n",
    "        \n",
    "    Returns:\n",
    "        df (pd.df): a dataframe with two columns: \"usid\" and a boolean value for if follower count > 30.\n",
    "    \"\"\"\n",
    "    return "
   ]
  },
  {
   "cell_type": "code",
   "execution_count": null,
   "metadata": {},
   "outputs": [],
   "source": [
    "def create_col_has_over_100_followers(df):\n",
    "    \"\"\"Creates a df with two columns: usid and if the user have over 100 followers.\n",
    "    \n",
    "    Parameters:\n",
    "        df (pd.df): a dataframe with at least two columns: \"usid\" and \"follower count\"\n",
    "        \n",
    "    Returns:\n",
    "        df (pd.df): a dataframe with two columns: \"usid\" and a boolean value for if follower count > 100.\n",
    "    \"\"\"\n",
    "    return "
   ]
  },
  {
   "cell_type": "code",
   "execution_count": null,
   "metadata": {},
   "outputs": [],
   "source": [
    "def create_col_user_follows_over_30_people(df):\n",
    "    \"\"\"Creates a df with two columns: usid and if the user follows over 30 other accounts.\n",
    "    \n",
    "    Parameters:\n",
    "        df (pd.df): a dataframe with at least two columns: \"usid\" and \"following count\"\n",
    "        \n",
    "    Returns:\n",
    "        df (pd.df): a dataframe with two columns: \"usid\" and a boolean value for if following count > 30.\n",
    "    \"\"\"\n",
    "    return "
   ]
  },
  {
   "cell_type": "code",
   "execution_count": null,
   "metadata": {},
   "outputs": [],
   "source": [
    "def create_col_user_follows_over_100_people(df):\n",
    "    \"\"\"Creates a df with two columns: usid and if the user follows over 100 other accounts.\n",
    "    \n",
    "    Parameters:\n",
    "        df (pd.df): a dataframe with at least two columns: \"usid\" and \"following count\"\n",
    "        \n",
    "    Returns:\n",
    "        df (pd.df): a dataframe with two columns: \"usid\" and a boolean value for if following count > 100.\n",
    "    \"\"\"\n",
    "    return "
   ]
  },
  {
   "cell_type": "code",
   "execution_count": null,
   "metadata": {},
   "outputs": [],
   "source": [
    "def create_col_user_authored_over_50_tweets(df):\n",
    "    \"\"\"Creates a df with two columns: usid and if the user authored over 50 tweets.\n",
    "    \n",
    "    Parameters:\n",
    "        df (pd.df): a dataframe with at least two columns: \"usid\" and \"tweets\"\n",
    "        \n",
    "    Returns:\n",
    "        df (pd.df): a dataframe with two columns: \"usid\" and a boolean value for if user has authored >50 tweets.\n",
    "    \"\"\"\n",
    "    return "
   ]
  },
  {
   "cell_type": "code",
   "execution_count": null,
   "metadata": {},
   "outputs": [],
   "source": [
    "def create_col_user_authored_over_100_tweets(df):\n",
    "    \"\"\"Creates a df with two columns: usid and if the user authored over 100 tweets.\n",
    "    \n",
    "    Parameters:\n",
    "        df (pd.df): a dataframe with at least two columns: \"usid\" and \"tweets\"\n",
    "        \n",
    "    Returns:\n",
    "        df (pd.df): a dataframe with two columns: \"usid\" and a boolean value for if user has authored >100 tweets.\n",
    "    \"\"\"\n",
    "    return "
   ]
  },
  {
   "cell_type": "code",
   "execution_count": 1,
   "metadata": {},
   "outputs": [],
   "source": [
    "def create_col_has_default_image_in_profile(df):\n",
    "    \"\"\"Creates a df with two columns: usid and default_profile.\n",
    "    \n",
    "    Parameters:\n",
    "        df (pd.df): a dataframe with at least two columns: \"usid\" and \"default_profile\"\n",
    "        \n",
    "    Returns:\n",
    "        df (pd.df): a dataframe with two columns: \"usid\" and a boolean value for if user has a default_profile.\n",
    "        \n",
    "    Note: See https://developer.twitter.com/en/docs/twitter-api/v1/data-dictionary/object-model/user for a description of the default_profile attribute.\n",
    "    \"\"\"\n",
    "    return "
   ]
  },
  {
   "cell_type": "code",
   "execution_count": null,
   "metadata": {},
   "outputs": [],
   "source": [
    "def create_col_friends_div_followers2(df):\n",
    "    \"\"\"Creates a df with two columns: usid and (num friends) / (num followers^2).\n",
    "    \n",
    "    Parameters:\n",
    "        df (pd.df): a dataframe with at least two columns: \"usid\" and \"friends\", \"followers\"\n",
    "        \n",
    "    Returns:\n",
    "        df (pd.df): a dataframe with two columns: \"usid\" and a float (num friends) / (num followers^2).\n",
    "    \"\"\"\n",
    "    return "
   ]
  },
  {
   "cell_type": "markdown",
   "metadata": {},
   "source": [
    "## **Start Data Processing**"
   ]
  },
  {
   "cell_type": "code",
   "execution_count": 9,
   "metadata": {},
   "outputs": [
    {
     "data": {
      "text/plain": [
       "['traditional_spambots_4.csv',\n",
       " 'genuine_accounts.csv',\n",
       " 'crowdflower_results.csv',\n",
       " 'traditional_spambots_3.csv',\n",
       " 'traditional_spambots_2.csv',\n",
       " 'traditional_spambots_1.csv',\n",
       " 'social_spambots_2.csv',\n",
       " 'fake_followers.csv',\n",
       " 'social_spambots_3.csv',\n",
       " 'social_spambots_1.csv']"
      ]
     },
     "execution_count": 9,
     "metadata": {},
     "output_type": "execute_result"
    }
   ],
   "source": [
    "all_files = os.listdir('.')#get all files in current directory \n",
    "#all_files\n",
    "all_csv_files = [file for file in all_files if file.endswith('.csv')] # find only the csv files\n",
    "all_csv_files"
   ]
  },
  {
   "cell_type": "code",
   "execution_count": 8,
   "metadata": {},
   "outputs": [
    {
     "ename": "NameError",
     "evalue": "name 'all_csv_files' is not defined",
     "output_type": "error",
     "traceback": [
      "\u001b[0;31m---------------------------------------------------------------------------\u001b[0m",
      "\u001b[0;31mNameError\u001b[0m                                 Traceback (most recent call last)",
      "\u001b[0;32m<ipython-input-8-380bf2fc5e43>\u001b[0m in \u001b[0;36m<module>\u001b[0;34m\u001b[0m\n\u001b[1;32m      1\u001b[0m \u001b[0mlist_of_dataframes\u001b[0m \u001b[0;34m=\u001b[0m \u001b[0;34m[\u001b[0m\u001b[0;34m]\u001b[0m\u001b[0;34m\u001b[0m\u001b[0;34m\u001b[0m\u001b[0m\n\u001b[0;32m----> 2\u001b[0;31m \u001b[0;32mfor\u001b[0m \u001b[0mfile\u001b[0m \u001b[0;32min\u001b[0m \u001b[0mall_csv_files\u001b[0m\u001b[0;34m:\u001b[0m\u001b[0;34m\u001b[0m\u001b[0;34m\u001b[0m\u001b[0m\n\u001b[0m\u001b[1;32m      3\u001b[0m     \u001b[0;31m#print(file)\u001b[0m\u001b[0;34m\u001b[0m\u001b[0;34m\u001b[0m\u001b[0;34m\u001b[0m\u001b[0m\n\u001b[1;32m      4\u001b[0m     \u001b[0mlist_of_dataframes\u001b[0m\u001b[0;34m.\u001b[0m\u001b[0mappend\u001b[0m\u001b[0;34m(\u001b[0m\u001b[0mpd\u001b[0m\u001b[0;34m.\u001b[0m\u001b[0mread_csv\u001b[0m\u001b[0;34m(\u001b[0m\u001b[0mfile\u001b[0m\u001b[0;34m)\u001b[0m\u001b[0;34m)\u001b[0m\u001b[0;34m\u001b[0m\u001b[0;34m\u001b[0m\u001b[0m\n\u001b[1;32m      5\u001b[0m \u001b[0mlist_of_dataframes\u001b[0m\u001b[0;34m[\u001b[0m\u001b[0;36m0\u001b[0m\u001b[0;34m]\u001b[0m\u001b[0;34m\u001b[0m\u001b[0;34m\u001b[0m\u001b[0m\n",
      "\u001b[0;31mNameError\u001b[0m: name 'all_csv_files' is not defined"
     ]
    }
   ],
   "source": [
    "list_of_dataframes = []\n",
    "for file in all_csv_files:\n",
    "    #print(file)\n",
    "    list_of_dataframes.append(pd.read_csv(file))\n",
    "list_of_dataframes[0]"
   ]
  },
  {
   "cell_type": "code",
   "execution_count": 12,
   "metadata": {},
   "outputs": [
    {
     "data": {
      "text/plain": [
       "Index(['id', 'text', 'source', 'user_id', 'truncated', 'in_reply_to_status_id',\n",
       "       'in_reply_to_user_id', 'in_reply_to_screen_name', 'retweeted_status_id',\n",
       "       'geo', 'place', 'contributors', 'retweet_count', 'reply_count',\n",
       "       'favorite_count', 'favorited', 'retweeted', 'possibly_sensitive',\n",
       "       'num_hashtags', 'num_urls', 'num_mentions', 'created_at', 'timestamp',\n",
       "       'crawled_at', 'updated'],\n",
       "      dtype='object')"
      ]
     },
     "execution_count": 12,
     "metadata": {},
     "output_type": "execute_result"
    }
   ],
   "source": [
    "df.columns"
   ]
  }
 ],
 "metadata": {
  "kernelspec": {
   "display_name": "Python 3",
   "language": "python",
   "name": "python3"
  },
  "language_info": {
   "codemirror_mode": {
    "name": "ipython",
    "version": 3
   },
   "file_extension": ".py",
   "mimetype": "text/x-python",
   "name": "python",
   "nbconvert_exporter": "python",
   "pygments_lexer": "ipython3",
   "version": "3.7.1"
  }
 },
 "nbformat": 4,
 "nbformat_minor": 4
}
